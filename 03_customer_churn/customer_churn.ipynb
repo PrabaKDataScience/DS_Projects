{
  "nbformat": 4,
  "nbformat_minor": 0,
  "metadata": {
    "colab": {
      "provenance": [],
      "collapsed_sections": [],
      "toc_visible": true,
      "authorship_tag": "ABX9TyPdfRk/caJ3VympiS2jj5Ud",
      "include_colab_link": true
    },
    "kernelspec": {
      "name": "python3",
      "display_name": "Python 3"
    },
    "language_info": {
      "name": "python"
    }
  },
  "cells": [
    {
      "cell_type": "markdown",
      "metadata": {
        "id": "view-in-github",
        "colab_type": "text"
      },
      "source": [
        "<a href=\"https://colab.research.google.com/github/PrabaKDataScience/DS_Projects/blob/main/03_customer_churn/customer_churn.ipynb\" target=\"_parent\"><img src=\"https://colab.research.google.com/assets/colab-badge.svg\" alt=\"Open In Colab\"/></a>"
      ]
    },
    {
      "cell_type": "markdown",
      "source": [
        "# Customer Churn or Customer attrition"
      ],
      "metadata": {
        "id": "MGh9IZJNdsLm"
      }
    },
    {
      "cell_type": "markdown",
      "source": [
        "\n",
        "\n",
        "1.   **Contractual Churn**  - when customers decide not to continue with their expired contarcts (SAAS service providers )\n",
        "2.   **Voluntary Churn** - When customers decide to cancel existing service (prepaid mobile cancel)\n",
        "3.   **Non contractual Churn** - When customers leave a possible purchase without completing the transaction\n",
        "\n"
      ],
      "metadata": {
        "id": "XMe3dAdYeIzz"
      }
    },
    {
      "cell_type": "markdown",
      "source": [
        "> Reason for customer churn\n",
        "\n",
        "\n",
        "\n",
        "1.   Lack of usage of the product\n",
        "2.   Poor service \n",
        "3. Better price at somewhere else\n",
        "\n",
        "\n",
        "The reason can vary based on the industry type . The mentioned points are common for all\n",
        "\n"
      ],
      "metadata": {
        "id": "n_3K7_yFfUil"
      }
    },
    {
      "cell_type": "markdown",
      "source": [
        "> Stakeholders of company is investing more time and effort to predict the customer churn\n",
        "\n",
        "> It is not so easy task to get a new customer than retaining a existing one."
      ],
      "metadata": {
        "id": "DDnCV4P8fzWT"
      }
    },
    {
      "cell_type": "markdown",
      "source": [
        "Concept Credit : https://towardsdatascience.com/customer-churn-analysis-4f77cc70b3bd\n",
        "\n",
        "Data Credit : https://raw.githubusercontent.com/anilak1978/"
      ],
      "metadata": {
        "id": "o-BdCNKCdvYM"
      }
    },
    {
      "cell_type": "markdown",
      "source": [
        "Our data set is from a credit card company, where we are able review customer attributes such as gender, age, tenure, balance, number of products they are subscribed to, their estimated salary and if they stopped the subscription or not."
      ],
      "metadata": {
        "id": "MCh_4xKPh9o8"
      }
    },
    {
      "cell_type": "markdown",
      "source": [
        "# Load the Data"
      ],
      "metadata": {
        "id": "DEOdgZ-riMco"
      }
    },
    {
      "cell_type": "code",
      "execution_count": 23,
      "metadata": {
        "colab": {
          "base_uri": "https://localhost:8080/",
          "height": 270
        },
        "id": "TM2Yzqbndjhv",
        "outputId": "9b71e1ae-536d-48ad-8066-2586b2ce6499"
      },
      "outputs": [
        {
          "output_type": "execute_result",
          "data": {
            "text/plain": [
              "   RowNumber  CustomerId   Surname  CreditScore Geography  Gender  Age  \\\n",
              "0          1    15634602  Hargrave          619    France  Female   42   \n",
              "1          2    15647311      Hill          608     Spain  Female   41   \n",
              "2          3    15619304      Onio          502    France  Female   42   \n",
              "3          4    15701354      Boni          699    France  Female   39   \n",
              "4          5    15737888  Mitchell          850     Spain  Female   43   \n",
              "\n",
              "   Tenure    Balance  NumOfProducts  HasCrCard  IsActiveMember  \\\n",
              "0       2       0.00              1          1               1   \n",
              "1       1   83807.86              1          0               1   \n",
              "2       8  159660.80              3          1               0   \n",
              "3       1       0.00              2          0               0   \n",
              "4       2  125510.82              1          1               1   \n",
              "\n",
              "   EstimatedSalary  Exited  \n",
              "0        101348.88       1  \n",
              "1        112542.58       0  \n",
              "2        113931.57       1  \n",
              "3         93826.63       0  \n",
              "4         79084.10       0  "
            ],
            "text/html": [
              "\n",
              "  <div id=\"df-42c7b6ce-aba7-42ec-9298-72fa9815fae5\">\n",
              "    <div class=\"colab-df-container\">\n",
              "      <div>\n",
              "<style scoped>\n",
              "    .dataframe tbody tr th:only-of-type {\n",
              "        vertical-align: middle;\n",
              "    }\n",
              "\n",
              "    .dataframe tbody tr th {\n",
              "        vertical-align: top;\n",
              "    }\n",
              "\n",
              "    .dataframe thead th {\n",
              "        text-align: right;\n",
              "    }\n",
              "</style>\n",
              "<table border=\"1\" class=\"dataframe\">\n",
              "  <thead>\n",
              "    <tr style=\"text-align: right;\">\n",
              "      <th></th>\n",
              "      <th>RowNumber</th>\n",
              "      <th>CustomerId</th>\n",
              "      <th>Surname</th>\n",
              "      <th>CreditScore</th>\n",
              "      <th>Geography</th>\n",
              "      <th>Gender</th>\n",
              "      <th>Age</th>\n",
              "      <th>Tenure</th>\n",
              "      <th>Balance</th>\n",
              "      <th>NumOfProducts</th>\n",
              "      <th>HasCrCard</th>\n",
              "      <th>IsActiveMember</th>\n",
              "      <th>EstimatedSalary</th>\n",
              "      <th>Exited</th>\n",
              "    </tr>\n",
              "  </thead>\n",
              "  <tbody>\n",
              "    <tr>\n",
              "      <th>0</th>\n",
              "      <td>1</td>\n",
              "      <td>15634602</td>\n",
              "      <td>Hargrave</td>\n",
              "      <td>619</td>\n",
              "      <td>France</td>\n",
              "      <td>Female</td>\n",
              "      <td>42</td>\n",
              "      <td>2</td>\n",
              "      <td>0.00</td>\n",
              "      <td>1</td>\n",
              "      <td>1</td>\n",
              "      <td>1</td>\n",
              "      <td>101348.88</td>\n",
              "      <td>1</td>\n",
              "    </tr>\n",
              "    <tr>\n",
              "      <th>1</th>\n",
              "      <td>2</td>\n",
              "      <td>15647311</td>\n",
              "      <td>Hill</td>\n",
              "      <td>608</td>\n",
              "      <td>Spain</td>\n",
              "      <td>Female</td>\n",
              "      <td>41</td>\n",
              "      <td>1</td>\n",
              "      <td>83807.86</td>\n",
              "      <td>1</td>\n",
              "      <td>0</td>\n",
              "      <td>1</td>\n",
              "      <td>112542.58</td>\n",
              "      <td>0</td>\n",
              "    </tr>\n",
              "    <tr>\n",
              "      <th>2</th>\n",
              "      <td>3</td>\n",
              "      <td>15619304</td>\n",
              "      <td>Onio</td>\n",
              "      <td>502</td>\n",
              "      <td>France</td>\n",
              "      <td>Female</td>\n",
              "      <td>42</td>\n",
              "      <td>8</td>\n",
              "      <td>159660.80</td>\n",
              "      <td>3</td>\n",
              "      <td>1</td>\n",
              "      <td>0</td>\n",
              "      <td>113931.57</td>\n",
              "      <td>1</td>\n",
              "    </tr>\n",
              "    <tr>\n",
              "      <th>3</th>\n",
              "      <td>4</td>\n",
              "      <td>15701354</td>\n",
              "      <td>Boni</td>\n",
              "      <td>699</td>\n",
              "      <td>France</td>\n",
              "      <td>Female</td>\n",
              "      <td>39</td>\n",
              "      <td>1</td>\n",
              "      <td>0.00</td>\n",
              "      <td>2</td>\n",
              "      <td>0</td>\n",
              "      <td>0</td>\n",
              "      <td>93826.63</td>\n",
              "      <td>0</td>\n",
              "    </tr>\n",
              "    <tr>\n",
              "      <th>4</th>\n",
              "      <td>5</td>\n",
              "      <td>15737888</td>\n",
              "      <td>Mitchell</td>\n",
              "      <td>850</td>\n",
              "      <td>Spain</td>\n",
              "      <td>Female</td>\n",
              "      <td>43</td>\n",
              "      <td>2</td>\n",
              "      <td>125510.82</td>\n",
              "      <td>1</td>\n",
              "      <td>1</td>\n",
              "      <td>1</td>\n",
              "      <td>79084.10</td>\n",
              "      <td>0</td>\n",
              "    </tr>\n",
              "  </tbody>\n",
              "</table>\n",
              "</div>\n",
              "      <button class=\"colab-df-convert\" onclick=\"convertToInteractive('df-42c7b6ce-aba7-42ec-9298-72fa9815fae5')\"\n",
              "              title=\"Convert this dataframe to an interactive table.\"\n",
              "              style=\"display:none;\">\n",
              "        \n",
              "  <svg xmlns=\"http://www.w3.org/2000/svg\" height=\"24px\"viewBox=\"0 0 24 24\"\n",
              "       width=\"24px\">\n",
              "    <path d=\"M0 0h24v24H0V0z\" fill=\"none\"/>\n",
              "    <path d=\"M18.56 5.44l.94 2.06.94-2.06 2.06-.94-2.06-.94-.94-2.06-.94 2.06-2.06.94zm-11 1L8.5 8.5l.94-2.06 2.06-.94-2.06-.94L8.5 2.5l-.94 2.06-2.06.94zm10 10l.94 2.06.94-2.06 2.06-.94-2.06-.94-.94-2.06-.94 2.06-2.06.94z\"/><path d=\"M17.41 7.96l-1.37-1.37c-.4-.4-.92-.59-1.43-.59-.52 0-1.04.2-1.43.59L10.3 9.45l-7.72 7.72c-.78.78-.78 2.05 0 2.83L4 21.41c.39.39.9.59 1.41.59.51 0 1.02-.2 1.41-.59l7.78-7.78 2.81-2.81c.8-.78.8-2.07 0-2.86zM5.41 20L4 18.59l7.72-7.72 1.47 1.35L5.41 20z\"/>\n",
              "  </svg>\n",
              "      </button>\n",
              "      \n",
              "  <style>\n",
              "    .colab-df-container {\n",
              "      display:flex;\n",
              "      flex-wrap:wrap;\n",
              "      gap: 12px;\n",
              "    }\n",
              "\n",
              "    .colab-df-convert {\n",
              "      background-color: #E8F0FE;\n",
              "      border: none;\n",
              "      border-radius: 50%;\n",
              "      cursor: pointer;\n",
              "      display: none;\n",
              "      fill: #1967D2;\n",
              "      height: 32px;\n",
              "      padding: 0 0 0 0;\n",
              "      width: 32px;\n",
              "    }\n",
              "\n",
              "    .colab-df-convert:hover {\n",
              "      background-color: #E2EBFA;\n",
              "      box-shadow: 0px 1px 2px rgba(60, 64, 67, 0.3), 0px 1px 3px 1px rgba(60, 64, 67, 0.15);\n",
              "      fill: #174EA6;\n",
              "    }\n",
              "\n",
              "    [theme=dark] .colab-df-convert {\n",
              "      background-color: #3B4455;\n",
              "      fill: #D2E3FC;\n",
              "    }\n",
              "\n",
              "    [theme=dark] .colab-df-convert:hover {\n",
              "      background-color: #434B5C;\n",
              "      box-shadow: 0px 1px 3px 1px rgba(0, 0, 0, 0.15);\n",
              "      filter: drop-shadow(0px 1px 2px rgba(0, 0, 0, 0.3));\n",
              "      fill: #FFFFFF;\n",
              "    }\n",
              "  </style>\n",
              "\n",
              "      <script>\n",
              "        const buttonEl =\n",
              "          document.querySelector('#df-42c7b6ce-aba7-42ec-9298-72fa9815fae5 button.colab-df-convert');\n",
              "        buttonEl.style.display =\n",
              "          google.colab.kernel.accessAllowed ? 'block' : 'none';\n",
              "\n",
              "        async function convertToInteractive(key) {\n",
              "          const element = document.querySelector('#df-42c7b6ce-aba7-42ec-9298-72fa9815fae5');\n",
              "          const dataTable =\n",
              "            await google.colab.kernel.invokeFunction('convertToInteractive',\n",
              "                                                     [key], {});\n",
              "          if (!dataTable) return;\n",
              "\n",
              "          const docLinkHtml = 'Like what you see? Visit the ' +\n",
              "            '<a target=\"_blank\" href=https://colab.research.google.com/notebooks/data_table.ipynb>data table notebook</a>'\n",
              "            + ' to learn more about interactive tables.';\n",
              "          element.innerHTML = '';\n",
              "          dataTable['output_type'] = 'display_data';\n",
              "          await google.colab.output.renderOutput(dataTable, element);\n",
              "          const docLink = document.createElement('div');\n",
              "          docLink.innerHTML = docLinkHtml;\n",
              "          element.appendChild(docLink);\n",
              "        }\n",
              "      </script>\n",
              "    </div>\n",
              "  </div>\n",
              "  "
            ]
          },
          "metadata": {},
          "execution_count": 23
        }
      ],
      "source": [
        "import pandas as pd\n",
        "import numpy as np\n",
        "import seaborn as sns\n",
        "import matplotlib.pyplot as plt\n",
        "\n",
        "df = pd.read_csv(\"https://raw.githubusercontent.com/anilak1978/customer_churn/master/Churn_Modeling.csv\")\n",
        "df.head()"
      ]
    },
    {
      "cell_type": "markdown",
      "source": [
        "# EDA (Exploratory Data Analysis)"
      ],
      "metadata": {
        "id": "Z5Ff-s72iPtY"
      }
    },
    {
      "cell_type": "markdown",
      "source": [
        "> We have to find the important independent variables (main features) from the available independent variables (features)"
      ],
      "metadata": {
        "id": "0slYG28tmLLw"
      }
    },
    {
      "cell_type": "code",
      "source": [
        "df.shape"
      ],
      "metadata": {
        "colab": {
          "base_uri": "https://localhost:8080/"
        },
        "id": "Wwzp-1q0iZbZ",
        "outputId": "60780f94-30cb-4a5d-dea9-90e5774f3f01"
      },
      "execution_count": 24,
      "outputs": [
        {
          "output_type": "execute_result",
          "data": {
            "text/plain": [
              "(10000, 14)"
            ]
          },
          "metadata": {},
          "execution_count": 24
        }
      ]
    },
    {
      "cell_type": "code",
      "source": [
        "df.describe().T"
      ],
      "metadata": {
        "colab": {
          "base_uri": "https://localhost:8080/",
          "height": 394
        },
        "id": "mbq3SjgWjUYt",
        "outputId": "1af53fa7-e6c0-47a9-ae75-75454e494b16"
      },
      "execution_count": 25,
      "outputs": [
        {
          "output_type": "execute_result",
          "data": {
            "text/plain": [
              "                   count          mean           std          min  \\\n",
              "RowNumber        10000.0  5.000500e+03   2886.895680         1.00   \n",
              "CustomerId       10000.0  1.569094e+07  71936.186123  15565701.00   \n",
              "CreditScore      10000.0  6.505288e+02     96.653299       350.00   \n",
              "Age              10000.0  3.892180e+01     10.487806        18.00   \n",
              "Tenure           10000.0  5.012800e+00      2.892174         0.00   \n",
              "Balance          10000.0  7.648589e+04  62397.405202         0.00   \n",
              "NumOfProducts    10000.0  1.530200e+00      0.581654         1.00   \n",
              "HasCrCard        10000.0  7.055000e-01      0.455840         0.00   \n",
              "IsActiveMember   10000.0  5.151000e-01      0.499797         0.00   \n",
              "EstimatedSalary  10000.0  1.000902e+05  57510.492818        11.58   \n",
              "Exited           10000.0  2.037000e-01      0.402769         0.00   \n",
              "\n",
              "                         25%           50%           75%          max  \n",
              "RowNumber            2500.75  5.000500e+03  7.500250e+03     10000.00  \n",
              "CustomerId       15628528.25  1.569074e+07  1.575323e+07  15815690.00  \n",
              "CreditScore           584.00  6.520000e+02  7.180000e+02       850.00  \n",
              "Age                    32.00  3.700000e+01  4.400000e+01        92.00  \n",
              "Tenure                  3.00  5.000000e+00  7.000000e+00        10.00  \n",
              "Balance                 0.00  9.719854e+04  1.276442e+05    250898.09  \n",
              "NumOfProducts           1.00  1.000000e+00  2.000000e+00         4.00  \n",
              "HasCrCard               0.00  1.000000e+00  1.000000e+00         1.00  \n",
              "IsActiveMember          0.00  1.000000e+00  1.000000e+00         1.00  \n",
              "EstimatedSalary     51002.11  1.001939e+05  1.493882e+05    199992.48  \n",
              "Exited                  0.00  0.000000e+00  0.000000e+00         1.00  "
            ],
            "text/html": [
              "\n",
              "  <div id=\"df-47e23612-b310-4b3b-b06d-614064b87ff2\">\n",
              "    <div class=\"colab-df-container\">\n",
              "      <div>\n",
              "<style scoped>\n",
              "    .dataframe tbody tr th:only-of-type {\n",
              "        vertical-align: middle;\n",
              "    }\n",
              "\n",
              "    .dataframe tbody tr th {\n",
              "        vertical-align: top;\n",
              "    }\n",
              "\n",
              "    .dataframe thead th {\n",
              "        text-align: right;\n",
              "    }\n",
              "</style>\n",
              "<table border=\"1\" class=\"dataframe\">\n",
              "  <thead>\n",
              "    <tr style=\"text-align: right;\">\n",
              "      <th></th>\n",
              "      <th>count</th>\n",
              "      <th>mean</th>\n",
              "      <th>std</th>\n",
              "      <th>min</th>\n",
              "      <th>25%</th>\n",
              "      <th>50%</th>\n",
              "      <th>75%</th>\n",
              "      <th>max</th>\n",
              "    </tr>\n",
              "  </thead>\n",
              "  <tbody>\n",
              "    <tr>\n",
              "      <th>RowNumber</th>\n",
              "      <td>10000.0</td>\n",
              "      <td>5.000500e+03</td>\n",
              "      <td>2886.895680</td>\n",
              "      <td>1.00</td>\n",
              "      <td>2500.75</td>\n",
              "      <td>5.000500e+03</td>\n",
              "      <td>7.500250e+03</td>\n",
              "      <td>10000.00</td>\n",
              "    </tr>\n",
              "    <tr>\n",
              "      <th>CustomerId</th>\n",
              "      <td>10000.0</td>\n",
              "      <td>1.569094e+07</td>\n",
              "      <td>71936.186123</td>\n",
              "      <td>15565701.00</td>\n",
              "      <td>15628528.25</td>\n",
              "      <td>1.569074e+07</td>\n",
              "      <td>1.575323e+07</td>\n",
              "      <td>15815690.00</td>\n",
              "    </tr>\n",
              "    <tr>\n",
              "      <th>CreditScore</th>\n",
              "      <td>10000.0</td>\n",
              "      <td>6.505288e+02</td>\n",
              "      <td>96.653299</td>\n",
              "      <td>350.00</td>\n",
              "      <td>584.00</td>\n",
              "      <td>6.520000e+02</td>\n",
              "      <td>7.180000e+02</td>\n",
              "      <td>850.00</td>\n",
              "    </tr>\n",
              "    <tr>\n",
              "      <th>Age</th>\n",
              "      <td>10000.0</td>\n",
              "      <td>3.892180e+01</td>\n",
              "      <td>10.487806</td>\n",
              "      <td>18.00</td>\n",
              "      <td>32.00</td>\n",
              "      <td>3.700000e+01</td>\n",
              "      <td>4.400000e+01</td>\n",
              "      <td>92.00</td>\n",
              "    </tr>\n",
              "    <tr>\n",
              "      <th>Tenure</th>\n",
              "      <td>10000.0</td>\n",
              "      <td>5.012800e+00</td>\n",
              "      <td>2.892174</td>\n",
              "      <td>0.00</td>\n",
              "      <td>3.00</td>\n",
              "      <td>5.000000e+00</td>\n",
              "      <td>7.000000e+00</td>\n",
              "      <td>10.00</td>\n",
              "    </tr>\n",
              "    <tr>\n",
              "      <th>Balance</th>\n",
              "      <td>10000.0</td>\n",
              "      <td>7.648589e+04</td>\n",
              "      <td>62397.405202</td>\n",
              "      <td>0.00</td>\n",
              "      <td>0.00</td>\n",
              "      <td>9.719854e+04</td>\n",
              "      <td>1.276442e+05</td>\n",
              "      <td>250898.09</td>\n",
              "    </tr>\n",
              "    <tr>\n",
              "      <th>NumOfProducts</th>\n",
              "      <td>10000.0</td>\n",
              "      <td>1.530200e+00</td>\n",
              "      <td>0.581654</td>\n",
              "      <td>1.00</td>\n",
              "      <td>1.00</td>\n",
              "      <td>1.000000e+00</td>\n",
              "      <td>2.000000e+00</td>\n",
              "      <td>4.00</td>\n",
              "    </tr>\n",
              "    <tr>\n",
              "      <th>HasCrCard</th>\n",
              "      <td>10000.0</td>\n",
              "      <td>7.055000e-01</td>\n",
              "      <td>0.455840</td>\n",
              "      <td>0.00</td>\n",
              "      <td>0.00</td>\n",
              "      <td>1.000000e+00</td>\n",
              "      <td>1.000000e+00</td>\n",
              "      <td>1.00</td>\n",
              "    </tr>\n",
              "    <tr>\n",
              "      <th>IsActiveMember</th>\n",
              "      <td>10000.0</td>\n",
              "      <td>5.151000e-01</td>\n",
              "      <td>0.499797</td>\n",
              "      <td>0.00</td>\n",
              "      <td>0.00</td>\n",
              "      <td>1.000000e+00</td>\n",
              "      <td>1.000000e+00</td>\n",
              "      <td>1.00</td>\n",
              "    </tr>\n",
              "    <tr>\n",
              "      <th>EstimatedSalary</th>\n",
              "      <td>10000.0</td>\n",
              "      <td>1.000902e+05</td>\n",
              "      <td>57510.492818</td>\n",
              "      <td>11.58</td>\n",
              "      <td>51002.11</td>\n",
              "      <td>1.001939e+05</td>\n",
              "      <td>1.493882e+05</td>\n",
              "      <td>199992.48</td>\n",
              "    </tr>\n",
              "    <tr>\n",
              "      <th>Exited</th>\n",
              "      <td>10000.0</td>\n",
              "      <td>2.037000e-01</td>\n",
              "      <td>0.402769</td>\n",
              "      <td>0.00</td>\n",
              "      <td>0.00</td>\n",
              "      <td>0.000000e+00</td>\n",
              "      <td>0.000000e+00</td>\n",
              "      <td>1.00</td>\n",
              "    </tr>\n",
              "  </tbody>\n",
              "</table>\n",
              "</div>\n",
              "      <button class=\"colab-df-convert\" onclick=\"convertToInteractive('df-47e23612-b310-4b3b-b06d-614064b87ff2')\"\n",
              "              title=\"Convert this dataframe to an interactive table.\"\n",
              "              style=\"display:none;\">\n",
              "        \n",
              "  <svg xmlns=\"http://www.w3.org/2000/svg\" height=\"24px\"viewBox=\"0 0 24 24\"\n",
              "       width=\"24px\">\n",
              "    <path d=\"M0 0h24v24H0V0z\" fill=\"none\"/>\n",
              "    <path d=\"M18.56 5.44l.94 2.06.94-2.06 2.06-.94-2.06-.94-.94-2.06-.94 2.06-2.06.94zm-11 1L8.5 8.5l.94-2.06 2.06-.94-2.06-.94L8.5 2.5l-.94 2.06-2.06.94zm10 10l.94 2.06.94-2.06 2.06-.94-2.06-.94-.94-2.06-.94 2.06-2.06.94z\"/><path d=\"M17.41 7.96l-1.37-1.37c-.4-.4-.92-.59-1.43-.59-.52 0-1.04.2-1.43.59L10.3 9.45l-7.72 7.72c-.78.78-.78 2.05 0 2.83L4 21.41c.39.39.9.59 1.41.59.51 0 1.02-.2 1.41-.59l7.78-7.78 2.81-2.81c.8-.78.8-2.07 0-2.86zM5.41 20L4 18.59l7.72-7.72 1.47 1.35L5.41 20z\"/>\n",
              "  </svg>\n",
              "      </button>\n",
              "      \n",
              "  <style>\n",
              "    .colab-df-container {\n",
              "      display:flex;\n",
              "      flex-wrap:wrap;\n",
              "      gap: 12px;\n",
              "    }\n",
              "\n",
              "    .colab-df-convert {\n",
              "      background-color: #E8F0FE;\n",
              "      border: none;\n",
              "      border-radius: 50%;\n",
              "      cursor: pointer;\n",
              "      display: none;\n",
              "      fill: #1967D2;\n",
              "      height: 32px;\n",
              "      padding: 0 0 0 0;\n",
              "      width: 32px;\n",
              "    }\n",
              "\n",
              "    .colab-df-convert:hover {\n",
              "      background-color: #E2EBFA;\n",
              "      box-shadow: 0px 1px 2px rgba(60, 64, 67, 0.3), 0px 1px 3px 1px rgba(60, 64, 67, 0.15);\n",
              "      fill: #174EA6;\n",
              "    }\n",
              "\n",
              "    [theme=dark] .colab-df-convert {\n",
              "      background-color: #3B4455;\n",
              "      fill: #D2E3FC;\n",
              "    }\n",
              "\n",
              "    [theme=dark] .colab-df-convert:hover {\n",
              "      background-color: #434B5C;\n",
              "      box-shadow: 0px 1px 3px 1px rgba(0, 0, 0, 0.15);\n",
              "      filter: drop-shadow(0px 1px 2px rgba(0, 0, 0, 0.3));\n",
              "      fill: #FFFFFF;\n",
              "    }\n",
              "  </style>\n",
              "\n",
              "      <script>\n",
              "        const buttonEl =\n",
              "          document.querySelector('#df-47e23612-b310-4b3b-b06d-614064b87ff2 button.colab-df-convert');\n",
              "        buttonEl.style.display =\n",
              "          google.colab.kernel.accessAllowed ? 'block' : 'none';\n",
              "\n",
              "        async function convertToInteractive(key) {\n",
              "          const element = document.querySelector('#df-47e23612-b310-4b3b-b06d-614064b87ff2');\n",
              "          const dataTable =\n",
              "            await google.colab.kernel.invokeFunction('convertToInteractive',\n",
              "                                                     [key], {});\n",
              "          if (!dataTable) return;\n",
              "\n",
              "          const docLinkHtml = 'Like what you see? Visit the ' +\n",
              "            '<a target=\"_blank\" href=https://colab.research.google.com/notebooks/data_table.ipynb>data table notebook</a>'\n",
              "            + ' to learn more about interactive tables.';\n",
              "          element.innerHTML = '';\n",
              "          dataTable['output_type'] = 'display_data';\n",
              "          await google.colab.output.renderOutput(dataTable, element);\n",
              "          const docLink = document.createElement('div');\n",
              "          docLink.innerHTML = docLinkHtml;\n",
              "          element.appendChild(docLink);\n",
              "        }\n",
              "      </script>\n",
              "    </div>\n",
              "  </div>\n",
              "  "
            ]
          },
          "metadata": {},
          "execution_count": 25
        }
      ]
    },
    {
      "cell_type": "code",
      "source": [
        "df.info()"
      ],
      "metadata": {
        "colab": {
          "base_uri": "https://localhost:8080/"
        },
        "id": "fClX7X-njhse",
        "outputId": "043fe48c-778a-4fbc-c6f8-81aeacf6adea"
      },
      "execution_count": 26,
      "outputs": [
        {
          "output_type": "stream",
          "name": "stdout",
          "text": [
            "<class 'pandas.core.frame.DataFrame'>\n",
            "RangeIndex: 10000 entries, 0 to 9999\n",
            "Data columns (total 14 columns):\n",
            " #   Column           Non-Null Count  Dtype  \n",
            "---  ------           --------------  -----  \n",
            " 0   RowNumber        10000 non-null  int64  \n",
            " 1   CustomerId       10000 non-null  int64  \n",
            " 2   Surname          10000 non-null  object \n",
            " 3   CreditScore      10000 non-null  int64  \n",
            " 4   Geography        10000 non-null  object \n",
            " 5   Gender           10000 non-null  object \n",
            " 6   Age              10000 non-null  int64  \n",
            " 7   Tenure           10000 non-null  int64  \n",
            " 8   Balance          10000 non-null  float64\n",
            " 9   NumOfProducts    10000 non-null  int64  \n",
            " 10  HasCrCard        10000 non-null  int64  \n",
            " 11  IsActiveMember   10000 non-null  int64  \n",
            " 12  EstimatedSalary  10000 non-null  float64\n",
            " 13  Exited           10000 non-null  int64  \n",
            "dtypes: float64(2), int64(9), object(3)\n",
            "memory usage: 1.1+ MB\n"
          ]
        }
      ]
    },
    {
      "cell_type": "code",
      "source": [
        "\n",
        "# Looking for missing data\n",
        "missing_data=df.isnull()\n",
        "for column in missing_data.columns.values.tolist():\n",
        "    print(column)\n",
        "    print(missing_data[column].value_counts())\n",
        "    print(\"\")"
      ],
      "metadata": {
        "colab": {
          "base_uri": "https://localhost:8080/"
        },
        "id": "b-NCo0TaiO2X",
        "outputId": "1486848b-7aba-4df3-eae9-b91c31bd5287"
      },
      "execution_count": 27,
      "outputs": [
        {
          "output_type": "stream",
          "name": "stdout",
          "text": [
            "RowNumber\n",
            "False    10000\n",
            "Name: RowNumber, dtype: int64\n",
            "\n",
            "CustomerId\n",
            "False    10000\n",
            "Name: CustomerId, dtype: int64\n",
            "\n",
            "Surname\n",
            "False    10000\n",
            "Name: Surname, dtype: int64\n",
            "\n",
            "CreditScore\n",
            "False    10000\n",
            "Name: CreditScore, dtype: int64\n",
            "\n",
            "Geography\n",
            "False    10000\n",
            "Name: Geography, dtype: int64\n",
            "\n",
            "Gender\n",
            "False    10000\n",
            "Name: Gender, dtype: int64\n",
            "\n",
            "Age\n",
            "False    10000\n",
            "Name: Age, dtype: int64\n",
            "\n",
            "Tenure\n",
            "False    10000\n",
            "Name: Tenure, dtype: int64\n",
            "\n",
            "Balance\n",
            "False    10000\n",
            "Name: Balance, dtype: int64\n",
            "\n",
            "NumOfProducts\n",
            "False    10000\n",
            "Name: NumOfProducts, dtype: int64\n",
            "\n",
            "HasCrCard\n",
            "False    10000\n",
            "Name: HasCrCard, dtype: int64\n",
            "\n",
            "IsActiveMember\n",
            "False    10000\n",
            "Name: IsActiveMember, dtype: int64\n",
            "\n",
            "EstimatedSalary\n",
            "False    10000\n",
            "Name: EstimatedSalary, dtype: int64\n",
            "\n",
            "Exited\n",
            "False    10000\n",
            "Name: Exited, dtype: int64\n",
            "\n"
          ]
        }
      ]
    },
    {
      "cell_type": "markdown",
      "source": [
        "> 💥💥We have to ask questions  from the solution we are expecting.\n",
        "\n",
        "1.  Does customers exit when the salary is low?\n",
        "2.  Does customers exit when the credit score is low?\n",
        "3. Does customers exit after certain age?\n",
        "\n",
        "Like this we have to ask questions linking features and labels\n",
        "\n",
        "♦ Is there any relationship between the features itself? (To avoid multi colinearity)"
      ],
      "metadata": {
        "id": "84bHaEHkmf9v"
      }
    },
    {
      "cell_type": "code",
      "source": [
        "# Looking at Geography and Gender Distribution against Estimated Salary\n",
        "plt.figure(figsize=(20,20))\n",
        "sns.catplot(x=\"Geography\", y=\"EstimatedSalary\", hue=\"Exited\", kind=\"box\", data=df)\n",
        "plt.title(\"Geography VS Estimated Salary\")\n",
        "plt.xlabel(\"Geography\")\n",
        "plt.ylabel(\"Estimated Salary\")"
      ],
      "metadata": {
        "colab": {
          "base_uri": "https://localhost:8080/",
          "height": 421
        },
        "id": "tQb2GEvZkwMe",
        "outputId": "43ff4d89-d1c8-408a-c2c7-54b099e1e92b"
      },
      "execution_count": 28,
      "outputs": [
        {
          "output_type": "execute_result",
          "data": {
            "text/plain": [
              "Text(32.354453125000006, 0.5, 'Estimated Salary')"
            ]
          },
          "metadata": {},
          "execution_count": 28
        },
        {
          "output_type": "display_data",
          "data": {
            "text/plain": [
              "<Figure size 1440x1440 with 0 Axes>"
            ]
          },
          "metadata": {}
        },
        {
          "output_type": "display_data",
          "data": {
            "text/plain": [
              "<Figure size 402.375x360 with 1 Axes>"
            ],
            "image/png": "[encoded data removed]"
          },
          "metadata": {}
        }
      ]
    },
    {
      "cell_type": "markdown",
      "source": [
        "Out of those who have exited , In germany we can find the avergae estimated salary is low where as in other countries it is not so ."
      ],
      "metadata": {
        "id": "KF0mKjj_n6JC"
      }
    },
    {
      "cell_type": "code",
      "source": [
        "# Looking at linear relationship between Age and CreditScore\n",
        "plt.figure(figsize=(10,10))\n",
        "sns.regplot(x=\"Age\", y=\"CreditScore\", data=df)"
      ],
      "metadata": {
        "colab": {
          "base_uri": "https://localhost:8080/",
          "height": 626
        },
        "id": "n_1qEsb_lTN6",
        "outputId": "75af2aab-59f5-41c4-bc05-57d7740d15c4"
      },
      "execution_count": 29,
      "outputs": [
        {
          "output_type": "execute_result",
          "data": {
            "text/plain": [
              "<matplotlib.axes._subplots.AxesSubplot at 0x7f4e3d267ad0>"
            ]
          },
          "metadata": {},
          "execution_count": 29
        },
        {
          "output_type": "display_data",
          "data": {
            "text/plain": [
              "<Figure size 720x720 with 1 Axes>"
            ],
            "image/png": "[encoded data removed]"
          },
          "metadata": {}
        }
      ]
    },
    {
      "cell_type": "markdown",
      "source": [
        "We dont see the linear relationship with Credit score and age . "
      ],
      "metadata": {
        "id": "BzMjJO3boQBA"
      }
    },
    {
      "cell_type": "code",
      "source": [
        "df.corr()"
      ],
      "metadata": {
        "colab": {
          "base_uri": "https://localhost:8080/",
          "height": 458
        },
        "id": "YAKbCYWlqw_R",
        "outputId": "e3b340e2-3b6b-42ee-92e8-5e115a6d7a53"
      },
      "execution_count": 30,
      "outputs": [
        {
          "output_type": "execute_result",
          "data": {
            "text/plain": [
              "                 RowNumber  CustomerId  CreditScore       Age    Tenure  \\\n",
              "RowNumber         1.000000    0.004202     0.005840  0.000783 -0.006495   \n",
              "CustomerId        0.004202    1.000000     0.005308  0.009497 -0.014883   \n",
              "CreditScore       0.005840    0.005308     1.000000 -0.003965  0.000842   \n",
              "Age               0.000783    0.009497    -0.003965  1.000000 -0.009997   \n",
              "Tenure           -0.006495   -0.014883     0.000842 -0.009997  1.000000   \n",
              "Balance          -0.009067   -0.012419     0.006268  0.028308 -0.012254   \n",
              "NumOfProducts     0.007246    0.016972     0.012238 -0.030680  0.013444   \n",
              "HasCrCard         0.000599   -0.014025    -0.005458 -0.011721  0.022583   \n",
              "IsActiveMember    0.012044    0.001665     0.025651  0.085472 -0.028362   \n",
              "EstimatedSalary  -0.005988    0.015271    -0.001384 -0.007201  0.007784   \n",
              "Exited           -0.016571   -0.006248    -0.027094  0.285323 -0.014001   \n",
              "\n",
              "                  Balance  NumOfProducts  HasCrCard  IsActiveMember  \\\n",
              "RowNumber       -0.009067       0.007246   0.000599        0.012044   \n",
              "CustomerId      -0.012419       0.016972  -0.014025        0.001665   \n",
              "CreditScore      0.006268       0.012238  -0.005458        0.025651   \n",
              "Age              0.028308      -0.030680  -0.011721        0.085472   \n",
              "Tenure          -0.012254       0.013444   0.022583       -0.028362   \n",
              "Balance          1.000000      -0.304180  -0.014858       -0.010084   \n",
              "NumOfProducts   -0.304180       1.000000   0.003183        0.009612   \n",
              "HasCrCard       -0.014858       0.003183   1.000000       -0.011866   \n",
              "IsActiveMember  -0.010084       0.009612  -0.011866        1.000000   \n",
              "EstimatedSalary  0.012797       0.014204  -0.009933       -0.011421   \n",
              "Exited           0.118533      -0.047820  -0.007138       -0.156128   \n",
              "\n",
              "                 EstimatedSalary    Exited  \n",
              "RowNumber              -0.005988 -0.016571  \n",
              "CustomerId              0.015271 -0.006248  \n",
              "CreditScore            -0.001384 -0.027094  \n",
              "Age                    -0.007201  0.285323  \n",
              "Tenure                  0.007784 -0.014001  \n",
              "Balance                 0.012797  0.118533  \n",
              "NumOfProducts           0.014204 -0.047820  \n",
              "HasCrCard              -0.009933 -0.007138  \n",
              "IsActiveMember         -0.011421 -0.156128  \n",
              "EstimatedSalary         1.000000  0.012097  \n",
              "Exited                  0.012097  1.000000  "
            ],
            "text/html": [
              "\n",
              "  <div id=\"df-efa2fd66-315b-43ce-921d-1c9dfde3baf1\">\n",
              "    <div class=\"colab-df-container\">\n",
              "      <div>\n",
              "<style scoped>\n",
              "    .dataframe tbody tr th:only-of-type {\n",
              "        vertical-align: middle;\n",
              "    }\n",
              "\n",
              "    .dataframe tbody tr th {\n",
              "        vertical-align: top;\n",
              "    }\n",
              "\n",
              "    .dataframe thead th {\n",
              "        text-align: right;\n",
              "    }\n",
              "</style>\n",
              "<table border=\"1\" class=\"dataframe\">\n",
              "  <thead>\n",
              "    <tr style=\"text-align: right;\">\n",
              "      <th></th>\n",
              "      <th>RowNumber</th>\n",
              "      <th>CustomerId</th>\n",
              "      <th>CreditScore</th>\n",
              "      <th>Age</th>\n",
              "      <th>Tenure</th>\n",
              "      <th>Balance</th>\n",
              "      <th>NumOfProducts</th>\n",
              "      <th>HasCrCard</th>\n",
              "      <th>IsActiveMember</th>\n",
              "      <th>EstimatedSalary</th>\n",
              "      <th>Exited</th>\n",
              "    </tr>\n",
              "  </thead>\n",
              "  <tbody>\n",
              "    <tr>\n",
              "      <th>RowNumber</th>\n",
              "      <td>1.000000</td>\n",
              "      <td>0.004202</td>\n",
              "      <td>0.005840</td>\n",
              "      <td>0.000783</td>\n",
              "      <td>-0.006495</td>\n",
              "      <td>-0.009067</td>\n",
              "      <td>0.007246</td>\n",
              "      <td>0.000599</td>\n",
              "      <td>0.012044</td>\n",
              "      <td>-0.005988</td>\n",
              "      <td>-0.016571</td>\n",
              "    </tr>\n",
              "    <tr>\n",
              "      <th>CustomerId</th>\n",
              "      <td>0.004202</td>\n",
              "      <td>1.000000</td>\n",
              "      <td>0.005308</td>\n",
              "      <td>0.009497</td>\n",
              "      <td>-0.014883</td>\n",
              "      <td>-0.012419</td>\n",
              "      <td>0.016972</td>\n",
              "      <td>-0.014025</td>\n",
              "      <td>0.001665</td>\n",
              "      <td>0.015271</td>\n",
              "      <td>-0.006248</td>\n",
              "    </tr>\n",
              "    <tr>\n",
              "      <th>CreditScore</th>\n",
              "      <td>0.005840</td>\n",
              "      <td>0.005308</td>\n",
              "      <td>1.000000</td>\n",
              "      <td>-0.003965</td>\n",
              "      <td>0.000842</td>\n",
              "      <td>0.006268</td>\n",
              "      <td>0.012238</td>\n",
              "      <td>-0.005458</td>\n",
              "      <td>0.025651</td>\n",
              "      <td>-0.001384</td>\n",
              "      <td>-0.027094</td>\n",
              "    </tr>\n",
              "    <tr>\n",
              "      <th>Age</th>\n",
              "      <td>0.000783</td>\n",
              "      <td>0.009497</td>\n",
              "      <td>-0.003965</td>\n",
              "      <td>1.000000</td>\n",
              "      <td>-0.009997</td>\n",
              "      <td>0.028308</td>\n",
              "      <td>-0.030680</td>\n",
              "      <td>-0.011721</td>\n",
              "      <td>0.085472</td>\n",
              "      <td>-0.007201</td>\n",
              "      <td>0.285323</td>\n",
              "    </tr>\n",
              "    <tr>\n",
              "      <th>Tenure</th>\n",
              "      <td>-0.006495</td>\n",
              "      <td>-0.014883</td>\n",
              "      <td>0.000842</td>\n",
              "      <td>-0.009997</td>\n",
              "      <td>1.000000</td>\n",
              "      <td>-0.012254</td>\n",
              "      <td>0.013444</td>\n",
              "      <td>0.022583</td>\n",
              "      <td>-0.028362</td>\n",
              "      <td>0.007784</td>\n",
              "      <td>-0.014001</td>\n",
              "    </tr>\n",
              "    <tr>\n",
              "      <th>Balance</th>\n",
              "      <td>-0.009067</td>\n",
              "      <td>-0.012419</td>\n",
              "      <td>0.006268</td>\n",
              "      <td>0.028308</td>\n",
              "      <td>-0.012254</td>\n",
              "      <td>1.000000</td>\n",
              "      <td>-0.304180</td>\n",
              "      <td>-0.014858</td>\n",
              "      <td>-0.010084</td>\n",
              "      <td>0.012797</td>\n",
              "      <td>0.118533</td>\n",
              "    </tr>\n",
              "    <tr>\n",
              "      <th>NumOfProducts</th>\n",
              "      <td>0.007246</td>\n",
              "      <td>0.016972</td>\n",
              "      <td>0.012238</td>\n",
              "      <td>-0.030680</td>\n",
              "      <td>0.013444</td>\n",
              "      <td>-0.304180</td>\n",
              "      <td>1.000000</td>\n",
              "      <td>0.003183</td>\n",
              "      <td>0.009612</td>\n",
              "      <td>0.014204</td>\n",
              "      <td>-0.047820</td>\n",
              "    </tr>\n",
              "    <tr>\n",
              "      <th>HasCrCard</th>\n",
              "      <td>0.000599</td>\n",
              "      <td>-0.014025</td>\n",
              "      <td>-0.005458</td>\n",
              "      <td>-0.011721</td>\n",
              "      <td>0.022583</td>\n",
              "      <td>-0.014858</td>\n",
              "      <td>0.003183</td>\n",
              "      <td>1.000000</td>\n",
              "      <td>-0.011866</td>\n",
              "      <td>-0.009933</td>\n",
              "      <td>-0.007138</td>\n",
              "    </tr>\n",
              "    <tr>\n",
              "      <th>IsActiveMember</th>\n",
              "      <td>0.012044</td>\n",
              "      <td>0.001665</td>\n",
              "      <td>0.025651</td>\n",
              "      <td>0.085472</td>\n",
              "      <td>-0.028362</td>\n",
              "      <td>-0.010084</td>\n",
              "      <td>0.009612</td>\n",
              "      <td>-0.011866</td>\n",
              "      <td>1.000000</td>\n",
              "      <td>-0.011421</td>\n",
              "      <td>-0.156128</td>\n",
              "    </tr>\n",
              "    <tr>\n",
              "      <th>EstimatedSalary</th>\n",
              "      <td>-0.005988</td>\n",
              "      <td>0.015271</td>\n",
              "      <td>-0.001384</td>\n",
              "      <td>-0.007201</td>\n",
              "      <td>0.007784</td>\n",
              "      <td>0.012797</td>\n",
              "      <td>0.014204</td>\n",
              "      <td>-0.009933</td>\n",
              "      <td>-0.011421</td>\n",
              "      <td>1.000000</td>\n",
              "      <td>0.012097</td>\n",
              "    </tr>\n",
              "    <tr>\n",
              "      <th>Exited</th>\n",
              "      <td>-0.016571</td>\n",
              "      <td>-0.006248</td>\n",
              "      <td>-0.027094</td>\n",
              "      <td>0.285323</td>\n",
              "      <td>-0.014001</td>\n",
              "      <td>0.118533</td>\n",
              "      <td>-0.047820</td>\n",
              "      <td>-0.007138</td>\n",
              "      <td>-0.156128</td>\n",
              "      <td>0.012097</td>\n",
              "      <td>1.000000</td>\n",
              "    </tr>\n",
              "  </tbody>\n",
              "</table>\n",
              "</div>\n",
              "      <button class=\"colab-df-convert\" onclick=\"convertToInteractive('df-efa2fd66-315b-43ce-921d-1c9dfde3baf1')\"\n",
              "              title=\"Convert this dataframe to an interactive table.\"\n",
              "              style=\"display:none;\">\n",
              "        \n",
              "  <svg xmlns=\"http://www.w3.org/2000/svg\" height=\"24px\"viewBox=\"0 0 24 24\"\n",
              "       width=\"24px\">\n",
              "    <path d=\"M0 0h24v24H0V0z\" fill=\"none\"/>\n",
              "    <path d=\"M18.56 5.44l.94 2.06.94-2.06 2.06-.94-2.06-.94-.94-2.06-.94 2.06-2.06.94zm-11 1L8.5 8.5l.94-2.06 2.06-.94-2.06-.94L8.5 2.5l-.94 2.06-2.06.94zm10 10l.94 2.06.94-2.06 2.06-.94-2.06-.94-.94-2.06-.94 2.06-2.06.94z\"/><path d=\"M17.41 7.96l-1.37-1.37c-.4-.4-.92-.59-1.43-.59-.52 0-1.04.2-1.43.59L10.3 9.45l-7.72 7.72c-.78.78-.78 2.05 0 2.83L4 21.41c.39.39.9.59 1.41.59.51 0 1.02-.2 1.41-.59l7.78-7.78 2.81-2.81c.8-.78.8-2.07 0-2.86zM5.41 20L4 18.59l7.72-7.72 1.47 1.35L5.41 20z\"/>\n",
              "  </svg>\n",
              "      </button>\n",
              "      \n",
              "  <style>\n",
              "    .colab-df-container {\n",
              "      display:flex;\n",
              "      flex-wrap:wrap;\n",
              "      gap: 12px;\n",
              "    }\n",
              "\n",
              "    .colab-df-convert {\n",
              "      background-color: #E8F0FE;\n",
              "      border: none;\n",
              "      border-radius: 50%;\n",
              "      cursor: pointer;\n",
              "      display: none;\n",
              "      fill: #1967D2;\n",
              "      height: 32px;\n",
              "      padding: 0 0 0 0;\n",
              "      width: 32px;\n",
              "    }\n",
              "\n",
              "    .colab-df-convert:hover {\n",
              "      background-color: #E2EBFA;\n",
              "      box-shadow: 0px 1px 2px rgba(60, 64, 67, 0.3), 0px 1px 3px 1px rgba(60, 64, 67, 0.15);\n",
              "      fill: #174EA6;\n",
              "    }\n",
              "\n",
              "    [theme=dark] .colab-df-convert {\n",
              "      background-color: #3B4455;\n",
              "      fill: #D2E3FC;\n",
              "    }\n",
              "\n",
              "    [theme=dark] .colab-df-convert:hover {\n",
              "      background-color: #434B5C;\n",
              "      box-shadow: 0px 1px 3px 1px rgba(0, 0, 0, 0.15);\n",
              "      filter: drop-shadow(0px 1px 2px rgba(0, 0, 0, 0.3));\n",
              "      fill: #FFFFFF;\n",
              "    }\n",
              "  </style>\n",
              "\n",
              "      <script>\n",
              "        const buttonEl =\n",
              "          document.querySelector('#df-efa2fd66-315b-43ce-921d-1c9dfde3baf1 button.colab-df-convert');\n",
              "        buttonEl.style.display =\n",
              "          google.colab.kernel.accessAllowed ? 'block' : 'none';\n",
              "\n",
              "        async function convertToInteractive(key) {\n",
              "          const element = document.querySelector('#df-efa2fd66-315b-43ce-921d-1c9dfde3baf1');\n",
              "          const dataTable =\n",
              "            await google.colab.kernel.invokeFunction('convertToInteractive',\n",
              "                                                     [key], {});\n",
              "          if (!dataTable) return;\n",
              "\n",
              "          const docLinkHtml = 'Like what you see? Visit the ' +\n",
              "            '<a target=\"_blank\" href=https://colab.research.google.com/notebooks/data_table.ipynb>data table notebook</a>'\n",
              "            + ' to learn more about interactive tables.';\n",
              "          element.innerHTML = '';\n",
              "          dataTable['output_type'] = 'display_data';\n",
              "          await google.colab.output.renderOutput(dataTable, element);\n",
              "          const docLink = document.createElement('div');\n",
              "          docLink.innerHTML = docLinkHtml;\n",
              "          element.appendChild(docLink);\n",
              "        }\n",
              "      </script>\n",
              "    </div>\n",
              "  </div>\n",
              "  "
            ]
          },
          "metadata": {},
          "execution_count": 30
        }
      ]
    },
    {
      "cell_type": "code",
      "source": [
        "# Looking for the relationship between Numerical variables\n",
        "import seaborn as sns\n",
        "from matplotlib import pyplot as plt\n",
        "\n",
        "corr = df.corr()\n",
        "\n",
        "plt.style.use('ggplot')\n",
        "fig = plt.figure(figsize=(10, 10))\n",
        "g = sns.heatmap(corr, cmap='coolwarm', square=True, linecolor='w', linewidth=.5,annot=True)\n",
        "plt.show()"
      ],
      "metadata": {
        "colab": {
          "base_uri": "https://localhost:8080/",
          "height": 619
        },
        "id": "Ae46POyDq2Ha",
        "outputId": "15c5caab-6394-4fe7-d0b5-1abd3d5acf34"
      },
      "execution_count": 31,
      "outputs": [
        {
          "output_type": "display_data",
          "data": {
            "text/plain": [
              "<Figure size 720x720 with 2 Axes>"
            ],
            "image/png": "[encoded data removed]"
          },
          "metadata": {}
        }
      ]
    },
    {
      "cell_type": "markdown",
      "source": [
        "> We observe that \n",
        "1. Age is 0.29 in correlation with Exited \n",
        "2. Balance is having the next highest correlation\n",
        "3. Balance and Numof Products is negatively corelated"
      ],
      "metadata": {
        "id": "z0MRLfZA0Afz"
      }
    },
    {
      "cell_type": "markdown",
      "source": [
        "# Preprocess"
      ],
      "metadata": {
        "id": "crCdjvJQ0jw5"
      }
    },
    {
      "cell_type": "code",
      "source": [
        "# We can take out RowNumber , CustomerId , Surname since all these are just identifier \n",
        "df.drop(['RowNumber','CustomerId','Surname'],axis='columns',inplace=True)"
      ],
      "metadata": {
        "id": "hgorNHOn1Kqu"
      },
      "execution_count": 35,
      "outputs": []
    },
    {
      "cell_type": "code",
      "source": [
        "df.head()"
      ],
      "metadata": {
        "colab": {
          "base_uri": "https://localhost:8080/",
          "height": 206
        },
        "id": "MWVGX09B1oYM",
        "outputId": "044b4b10-49be-4d8d-db9a-11260ef2cc3e"
      },
      "execution_count": 36,
      "outputs": [
        {
          "output_type": "execute_result",
          "data": {
            "text/plain": [
              "   CreditScore Geography  Gender  Age  Tenure    Balance  NumOfProducts  \\\n",
              "0          619    France  Female   42       2       0.00              1   \n",
              "1          608     Spain  Female   41       1   83807.86              1   \n",
              "2          502    France  Female   42       8  159660.80              3   \n",
              "3          699    France  Female   39       1       0.00              2   \n",
              "4          850     Spain  Female   43       2  125510.82              1   \n",
              "\n",
              "   HasCrCard  IsActiveMember  EstimatedSalary  Exited  \n",
              "0          1               1        101348.88       1  \n",
              "1          0               1        112542.58       0  \n",
              "2          1               0        113931.57       1  \n",
              "3          0               0         93826.63       0  \n",
              "4          1               1         79084.10       0  "
            ],
            "text/html": [
              "\n",
              "  <div id=\"df-d5b7c08f-9c17-4bf2-a41c-914372a5cd3a\">\n",
              "    <div class=\"colab-df-container\">\n",
              "      <div>\n",
              "<style scoped>\n",
              "    .dataframe tbody tr th:only-of-type {\n",
              "        vertical-align: middle;\n",
              "    }\n",
              "\n",
              "    .dataframe tbody tr th {\n",
              "        vertical-align: top;\n",
              "    }\n",
              "\n",
              "    .dataframe thead th {\n",
              "        text-align: right;\n",
              "    }\n",
              "</style>\n",
              "<table border=\"1\" class=\"dataframe\">\n",
              "  <thead>\n",
              "    <tr style=\"text-align: right;\">\n",
              "      <th></th>\n",
              "      <th>CreditScore</th>\n",
              "      <th>Geography</th>\n",
              "      <th>Gender</th>\n",
              "      <th>Age</th>\n",
              "      <th>Tenure</th>\n",
              "      <th>Balance</th>\n",
              "      <th>NumOfProducts</th>\n",
              "      <th>HasCrCard</th>\n",
              "      <th>IsActiveMember</th>\n",
              "      <th>EstimatedSalary</th>\n",
              "      <th>Exited</th>\n",
              "    </tr>\n",
              "  </thead>\n",
              "  <tbody>\n",
              "    <tr>\n",
              "      <th>0</th>\n",
              "      <td>619</td>\n",
              "      <td>France</td>\n",
              "      <td>Female</td>\n",
              "      <td>42</td>\n",
              "      <td>2</td>\n",
              "      <td>0.00</td>\n",
              "      <td>1</td>\n",
              "      <td>1</td>\n",
              "      <td>1</td>\n",
              "      <td>101348.88</td>\n",
              "      <td>1</td>\n",
              "    </tr>\n",
              "    <tr>\n",
              "      <th>1</th>\n",
              "      <td>608</td>\n",
              "      <td>Spain</td>\n",
              "      <td>Female</td>\n",
              "      <td>41</td>\n",
              "      <td>1</td>\n",
              "      <td>83807.86</td>\n",
              "      <td>1</td>\n",
              "      <td>0</td>\n",
              "      <td>1</td>\n",
              "      <td>112542.58</td>\n",
              "      <td>0</td>\n",
              "    </tr>\n",
              "    <tr>\n",
              "      <th>2</th>\n",
              "      <td>502</td>\n",
              "      <td>France</td>\n",
              "      <td>Female</td>\n",
              "      <td>42</td>\n",
              "      <td>8</td>\n",
              "      <td>159660.80</td>\n",
              "      <td>3</td>\n",
              "      <td>1</td>\n",
              "      <td>0</td>\n",
              "      <td>113931.57</td>\n",
              "      <td>1</td>\n",
              "    </tr>\n",
              "    <tr>\n",
              "      <th>3</th>\n",
              "      <td>699</td>\n",
              "      <td>France</td>\n",
              "      <td>Female</td>\n",
              "      <td>39</td>\n",
              "      <td>1</td>\n",
              "      <td>0.00</td>\n",
              "      <td>2</td>\n",
              "      <td>0</td>\n",
              "      <td>0</td>\n",
              "      <td>93826.63</td>\n",
              "      <td>0</td>\n",
              "    </tr>\n",
              "    <tr>\n",
              "      <th>4</th>\n",
              "      <td>850</td>\n",
              "      <td>Spain</td>\n",
              "      <td>Female</td>\n",
              "      <td>43</td>\n",
              "      <td>2</td>\n",
              "      <td>125510.82</td>\n",
              "      <td>1</td>\n",
              "      <td>1</td>\n",
              "      <td>1</td>\n",
              "      <td>79084.10</td>\n",
              "      <td>0</td>\n",
              "    </tr>\n",
              "  </tbody>\n",
              "</table>\n",
              "</div>\n",
              "      <button class=\"colab-df-convert\" onclick=\"convertToInteractive('df-d5b7c08f-9c17-4bf2-a41c-914372a5cd3a')\"\n",
              "              title=\"Convert this dataframe to an interactive table.\"\n",
              "              style=\"display:none;\">\n",
              "        \n",
              "  <svg xmlns=\"http://www.w3.org/2000/svg\" height=\"24px\"viewBox=\"0 0 24 24\"\n",
              "       width=\"24px\">\n",
              "    <path d=\"M0 0h24v24H0V0z\" fill=\"none\"/>\n",
              "    <path d=\"M18.56 5.44l.94 2.06.94-2.06 2.06-.94-2.06-.94-.94-2.06-.94 2.06-2.06.94zm-11 1L8.5 8.5l.94-2.06 2.06-.94-2.06-.94L8.5 2.5l-.94 2.06-2.06.94zm10 10l.94 2.06.94-2.06 2.06-.94-2.06-.94-.94-2.06-.94 2.06-2.06.94z\"/><path d=\"M17.41 7.96l-1.37-1.37c-.4-.4-.92-.59-1.43-.59-.52 0-1.04.2-1.43.59L10.3 9.45l-7.72 7.72c-.78.78-.78 2.05 0 2.83L4 21.41c.39.39.9.59 1.41.59.51 0 1.02-.2 1.41-.59l7.78-7.78 2.81-2.81c.8-.78.8-2.07 0-2.86zM5.41 20L4 18.59l7.72-7.72 1.47 1.35L5.41 20z\"/>\n",
              "  </svg>\n",
              "      </button>\n",
              "      \n",
              "  <style>\n",
              "    .colab-df-container {\n",
              "      display:flex;\n",
              "      flex-wrap:wrap;\n",
              "      gap: 12px;\n",
              "    }\n",
              "\n",
              "    .colab-df-convert {\n",
              "      background-color: #E8F0FE;\n",
              "      border: none;\n",
              "      border-radius: 50%;\n",
              "      cursor: pointer;\n",
              "      display: none;\n",
              "      fill: #1967D2;\n",
              "      height: 32px;\n",
              "      padding: 0 0 0 0;\n",
              "      width: 32px;\n",
              "    }\n",
              "\n",
              "    .colab-df-convert:hover {\n",
              "      background-color: #E2EBFA;\n",
              "      box-shadow: 0px 1px 2px rgba(60, 64, 67, 0.3), 0px 1px 3px 1px rgba(60, 64, 67, 0.15);\n",
              "      fill: #174EA6;\n",
              "    }\n",
              "\n",
              "    [theme=dark] .colab-df-convert {\n",
              "      background-color: #3B4455;\n",
              "      fill: #D2E3FC;\n",
              "    }\n",
              "\n",
              "    [theme=dark] .colab-df-convert:hover {\n",
              "      background-color: #434B5C;\n",
              "      box-shadow: 0px 1px 3px 1px rgba(0, 0, 0, 0.15);\n",
              "      filter: drop-shadow(0px 1px 2px rgba(0, 0, 0, 0.3));\n",
              "      fill: #FFFFFF;\n",
              "    }\n",
              "  </style>\n",
              "\n",
              "      <script>\n",
              "        const buttonEl =\n",
              "          document.querySelector('#df-d5b7c08f-9c17-4bf2-a41c-914372a5cd3a button.colab-df-convert');\n",
              "        buttonEl.style.display =\n",
              "          google.colab.kernel.accessAllowed ? 'block' : 'none';\n",
              "\n",
              "        async function convertToInteractive(key) {\n",
              "          const element = document.querySelector('#df-d5b7c08f-9c17-4bf2-a41c-914372a5cd3a');\n",
              "          const dataTable =\n",
              "            await google.colab.kernel.invokeFunction('convertToInteractive',\n",
              "                                                     [key], {});\n",
              "          if (!dataTable) return;\n",
              "\n",
              "          const docLinkHtml = 'Like what you see? Visit the ' +\n",
              "            '<a target=\"_blank\" href=https://colab.research.google.com/notebooks/data_table.ipynb>data table notebook</a>'\n",
              "            + ' to learn more about interactive tables.';\n",
              "          element.innerHTML = '';\n",
              "          dataTable['output_type'] = 'display_data';\n",
              "          await google.colab.output.renderOutput(dataTable, element);\n",
              "          const docLink = document.createElement('div');\n",
              "          docLink.innerHTML = docLinkHtml;\n",
              "          element.appendChild(docLink);\n",
              "        }\n",
              "      </script>\n",
              "    </div>\n",
              "  </div>\n",
              "  "
            ]
          },
          "metadata": {},
          "execution_count": 36
        }
      ]
    },
    {
      "cell_type": "markdown",
      "source": [
        "## Encoder"
      ],
      "metadata": {
        "id": "CCldV1ya3h6Z"
      }
    },
    {
      "cell_type": "code",
      "source": [
        "from sklearn.preprocessing import LabelEncoder\n",
        "\n",
        "geo_le = LabelEncoder()\n",
        "encoded_geo = geo_le.fit_transform(df['Geography'])\n",
        "geo_le.classes_"
      ],
      "metadata": {
        "colab": {
          "base_uri": "https://localhost:8080/"
        },
        "id": "-Oo66Nun3lyO",
        "outputId": "4a4b0b98-96ab-4ed0-f929-34d80334b533"
      },
      "execution_count": 40,
      "outputs": [
        {
          "output_type": "execute_result",
          "data": {
            "text/plain": [
              "array(['France', 'Germany', 'Spain'], dtype=object)"
            ]
          },
          "metadata": {},
          "execution_count": 40
        }
      ]
    },
    {
      "cell_type": "code",
      "source": [
        "encoded_geo[:5]"
      ],
      "metadata": {
        "colab": {
          "base_uri": "https://localhost:8080/"
        },
        "id": "QJ2WfMBE4IMx",
        "outputId": "1c0a4a55-1e6f-4488-ce84-ad4553803b3b"
      },
      "execution_count": 41,
      "outputs": [
        {
          "output_type": "execute_result",
          "data": {
            "text/plain": [
              "array([0, 2, 0, 0, 2])"
            ]
          },
          "metadata": {},
          "execution_count": 41
        }
      ]
    },
    {
      "cell_type": "code",
      "source": [
        "df['Geography_encoded'] = encoded_geo"
      ],
      "metadata": {
        "id": "DA6kFjLo4Mot"
      },
      "execution_count": 42,
      "outputs": []
    },
    {
      "cell_type": "code",
      "source": [
        "df.drop(['Geography'],axis='columns',inplace=True)"
      ],
      "metadata": {
        "id": "YWQBeR9D5DYp"
      },
      "execution_count": 49,
      "outputs": []
    },
    {
      "cell_type": "code",
      "source": [
        "df['Gender'].value_counts()"
      ],
      "metadata": {
        "colab": {
          "base_uri": "https://localhost:8080/"
        },
        "id": "KvtO0L5S4f3T",
        "outputId": "c1e5ba55-4c85-4071-82c5-9bc9c0056ca7"
      },
      "execution_count": 47,
      "outputs": [
        {
          "output_type": "execute_result",
          "data": {
            "text/plain": [
              "array(['Female', 'Male'], dtype=object)"
            ]
          },
          "metadata": {},
          "execution_count": 47
        }
      ]
    },
    {
      "cell_type": "code",
      "source": [
        "df['Gender']=df['Gender'].map({'Female':0,'Male':1})"
      ],
      "metadata": {
        "id": "figRbhBx4VVs"
      },
      "execution_count": 51,
      "outputs": []
    },
    {
      "cell_type": "code",
      "source": [
        "df.head()"
      ],
      "metadata": {
        "colab": {
          "base_uri": "https://localhost:8080/",
          "height": 206
        },
        "id": "SnJKbNtb5U5Q",
        "outputId": "f6d52e45-59b6-4c15-99f4-f5910f7c4842"
      },
      "execution_count": 52,
      "outputs": [
        {
          "output_type": "execute_result",
          "data": {
            "text/plain": [
              "   CreditScore  Gender  Age  Tenure    Balance  NumOfProducts  HasCrCard  \\\n",
              "0          619       0   42       2       0.00              1          1   \n",
              "1          608       0   41       1   83807.86              1          0   \n",
              "2          502       0   42       8  159660.80              3          1   \n",
              "3          699       0   39       1       0.00              2          0   \n",
              "4          850       0   43       2  125510.82              1          1   \n",
              "\n",
              "   IsActiveMember  EstimatedSalary  Exited  Geography_encoded  \n",
              "0               1        101348.88       1                  0  \n",
              "1               1        112542.58       0                  2  \n",
              "2               0        113931.57       1                  0  \n",
              "3               0         93826.63       0                  0  \n",
              "4               1         79084.10       0                  2  "
            ],
            "text/html": [
              "\n",
              "  <div id=\"df-7af79ed7-97f1-45e2-a091-ebcb52f891c3\">\n",
              "    <div class=\"colab-df-container\">\n",
              "      <div>\n",
              "<style scoped>\n",
              "    .dataframe tbody tr th:only-of-type {\n",
              "        vertical-align: middle;\n",
              "    }\n",
              "\n",
              "    .dataframe tbody tr th {\n",
              "        vertical-align: top;\n",
              "    }\n",
              "\n",
              "    .dataframe thead th {\n",
              "        text-align: right;\n",
              "    }\n",
              "</style>\n",
              "<table border=\"1\" class=\"dataframe\">\n",
              "  <thead>\n",
              "    <tr style=\"text-align: right;\">\n",
              "      <th></th>\n",
              "      <th>CreditScore</th>\n",
              "      <th>Gender</th>\n",
              "      <th>Age</th>\n",
              "      <th>Tenure</th>\n",
              "      <th>Balance</th>\n",
              "      <th>NumOfProducts</th>\n",
              "      <th>HasCrCard</th>\n",
              "      <th>IsActiveMember</th>\n",
              "      <th>EstimatedSalary</th>\n",
              "      <th>Exited</th>\n",
              "      <th>Geography_encoded</th>\n",
              "    </tr>\n",
              "  </thead>\n",
              "  <tbody>\n",
              "    <tr>\n",
              "      <th>0</th>\n",
              "      <td>619</td>\n",
              "      <td>0</td>\n",
              "      <td>42</td>\n",
              "      <td>2</td>\n",
              "      <td>0.00</td>\n",
              "      <td>1</td>\n",
              "      <td>1</td>\n",
              "      <td>1</td>\n",
              "      <td>101348.88</td>\n",
              "      <td>1</td>\n",
              "      <td>0</td>\n",
              "    </tr>\n",
              "    <tr>\n",
              "      <th>1</th>\n",
              "      <td>608</td>\n",
              "      <td>0</td>\n",
              "      <td>41</td>\n",
              "      <td>1</td>\n",
              "      <td>83807.86</td>\n",
              "      <td>1</td>\n",
              "      <td>0</td>\n",
              "      <td>1</td>\n",
              "      <td>112542.58</td>\n",
              "      <td>0</td>\n",
              "      <td>2</td>\n",
              "    </tr>\n",
              "    <tr>\n",
              "      <th>2</th>\n",
              "      <td>502</td>\n",
              "      <td>0</td>\n",
              "      <td>42</td>\n",
              "      <td>8</td>\n",
              "      <td>159660.80</td>\n",
              "      <td>3</td>\n",
              "      <td>1</td>\n",
              "      <td>0</td>\n",
              "      <td>113931.57</td>\n",
              "      <td>1</td>\n",
              "      <td>0</td>\n",
              "    </tr>\n",
              "    <tr>\n",
              "      <th>3</th>\n",
              "      <td>699</td>\n",
              "      <td>0</td>\n",
              "      <td>39</td>\n",
              "      <td>1</td>\n",
              "      <td>0.00</td>\n",
              "      <td>2</td>\n",
              "      <td>0</td>\n",
              "      <td>0</td>\n",
              "      <td>93826.63</td>\n",
              "      <td>0</td>\n",
              "      <td>0</td>\n",
              "    </tr>\n",
              "    <tr>\n",
              "      <th>4</th>\n",
              "      <td>850</td>\n",
              "      <td>0</td>\n",
              "      <td>43</td>\n",
              "      <td>2</td>\n",
              "      <td>125510.82</td>\n",
              "      <td>1</td>\n",
              "      <td>1</td>\n",
              "      <td>1</td>\n",
              "      <td>79084.10</td>\n",
              "      <td>0</td>\n",
              "      <td>2</td>\n",
              "    </tr>\n",
              "  </tbody>\n",
              "</table>\n",
              "</div>\n",
              "      <button class=\"colab-df-convert\" onclick=\"convertToInteractive('df-7af79ed7-97f1-45e2-a091-ebcb52f891c3')\"\n",
              "              title=\"Convert this dataframe to an interactive table.\"\n",
              "              style=\"display:none;\">\n",
              "        \n",
              "  <svg xmlns=\"http://www.w3.org/2000/svg\" height=\"24px\"viewBox=\"0 0 24 24\"\n",
              "       width=\"24px\">\n",
              "    <path d=\"M0 0h24v24H0V0z\" fill=\"none\"/>\n",
              "    <path d=\"M18.56 5.44l.94 2.06.94-2.06 2.06-.94-2.06-.94-.94-2.06-.94 2.06-2.06.94zm-11 1L8.5 8.5l.94-2.06 2.06-.94-2.06-.94L8.5 2.5l-.94 2.06-2.06.94zm10 10l.94 2.06.94-2.06 2.06-.94-2.06-.94-.94-2.06-.94 2.06-2.06.94z\"/><path d=\"M17.41 7.96l-1.37-1.37c-.4-.4-.92-.59-1.43-.59-.52 0-1.04.2-1.43.59L10.3 9.45l-7.72 7.72c-.78.78-.78 2.05 0 2.83L4 21.41c.39.39.9.59 1.41.59.51 0 1.02-.2 1.41-.59l7.78-7.78 2.81-2.81c.8-.78.8-2.07 0-2.86zM5.41 20L4 18.59l7.72-7.72 1.47 1.35L5.41 20z\"/>\n",
              "  </svg>\n",
              "      </button>\n",
              "      \n",
              "  <style>\n",
              "    .colab-df-container {\n",
              "      display:flex;\n",
              "      flex-wrap:wrap;\n",
              "      gap: 12px;\n",
              "    }\n",
              "\n",
              "    .colab-df-convert {\n",
              "      background-color: #E8F0FE;\n",
              "      border: none;\n",
              "      border-radius: 50%;\n",
              "      cursor: pointer;\n",
              "      display: none;\n",
              "      fill: #1967D2;\n",
              "      height: 32px;\n",
              "      padding: 0 0 0 0;\n",
              "      width: 32px;\n",
              "    }\n",
              "\n",
              "    .colab-df-convert:hover {\n",
              "      background-color: #E2EBFA;\n",
              "      box-shadow: 0px 1px 2px rgba(60, 64, 67, 0.3), 0px 1px 3px 1px rgba(60, 64, 67, 0.15);\n",
              "      fill: #174EA6;\n",
              "    }\n",
              "\n",
              "    [theme=dark] .colab-df-convert {\n",
              "      background-color: #3B4455;\n",
              "      fill: #D2E3FC;\n",
              "    }\n",
              "\n",
              "    [theme=dark] .colab-df-convert:hover {\n",
              "      background-color: #434B5C;\n",
              "      box-shadow: 0px 1px 3px 1px rgba(0, 0, 0, 0.15);\n",
              "      filter: drop-shadow(0px 1px 2px rgba(0, 0, 0, 0.3));\n",
              "      fill: #FFFFFF;\n",
              "    }\n",
              "  </style>\n",
              "\n",
              "      <script>\n",
              "        const buttonEl =\n",
              "          document.querySelector('#df-7af79ed7-97f1-45e2-a091-ebcb52f891c3 button.colab-df-convert');\n",
              "        buttonEl.style.display =\n",
              "          google.colab.kernel.accessAllowed ? 'block' : 'none';\n",
              "\n",
              "        async function convertToInteractive(key) {\n",
              "          const element = document.querySelector('#df-7af79ed7-97f1-45e2-a091-ebcb52f891c3');\n",
              "          const dataTable =\n",
              "            await google.colab.kernel.invokeFunction('convertToInteractive',\n",
              "                                                     [key], {});\n",
              "          if (!dataTable) return;\n",
              "\n",
              "          const docLinkHtml = 'Like what you see? Visit the ' +\n",
              "            '<a target=\"_blank\" href=https://colab.research.google.com/notebooks/data_table.ipynb>data table notebook</a>'\n",
              "            + ' to learn more about interactive tables.';\n",
              "          element.innerHTML = '';\n",
              "          dataTable['output_type'] = 'display_data';\n",
              "          await google.colab.output.renderOutput(dataTable, element);\n",
              "          const docLink = document.createElement('div');\n",
              "          docLink.innerHTML = docLinkHtml;\n",
              "          element.appendChild(docLink);\n",
              "        }\n",
              "      </script>\n",
              "    </div>\n",
              "  </div>\n",
              "  "
            ]
          },
          "metadata": {},
          "execution_count": 52
        }
      ]
    },
    {
      "cell_type": "code",
      "source": [
        "# There is strong imbalance of the traget label in the dataset \n",
        "# We will handle this later\n",
        "df.Exited.value_counts()"
      ],
      "metadata": {
        "colab": {
          "base_uri": "https://localhost:8080/"
        },
        "id": "s1NR1Zc71t4w",
        "outputId": "7c09f7da-2b87-46ce-b26a-1ad3216e826b"
      },
      "execution_count": 38,
      "outputs": [
        {
          "output_type": "execute_result",
          "data": {
            "text/plain": [
              "0    7963\n",
              "1    2037\n",
              "Name: Exited, dtype: int64"
            ]
          },
          "metadata": {},
          "execution_count": 38
        }
      ]
    },
    {
      "cell_type": "code",
      "source": [
        "2037/7963"
      ],
      "metadata": {
        "colab": {
          "base_uri": "https://localhost:8080/"
        },
        "id": "isRA1djj6bfe",
        "outputId": "2aee7fb0-6252-4736-b1d2-6f58418fe497"
      },
      "execution_count": 58,
      "outputs": [
        {
          "output_type": "execute_result",
          "data": {
            "text/plain": [
              "0.25580811252040686"
            ]
          },
          "metadata": {},
          "execution_count": 58
        }
      ]
    },
    {
      "cell_type": "markdown",
      "source": [
        "# Data Split - No Scaling"
      ],
      "metadata": {
        "id": "9zr87eFp5i3p"
      }
    },
    {
      "cell_type": "code",
      "source": [
        "features = df.drop(['Exited'],axis=1)\n",
        "labels = df['Exited']"
      ],
      "metadata": {
        "id": "1ZcXJCkE524E"
      },
      "execution_count": 53,
      "outputs": []
    },
    {
      "cell_type": "code",
      "source": [
        "from sklearn.model_selection import train_test_split as tts\n",
        "\n",
        "X_train, X_test,y_train,y_test = tts(features,labels,test_size=0.2,random_state=43,stratify=labels)\n"
      ],
      "metadata": {
        "id": "Jgvz02UL3fet"
      },
      "execution_count": 57,
      "outputs": []
    },
    {
      "cell_type": "markdown",
      "source": [
        ">We are trying to have the same propotion of label in the training data like in the input"
      ],
      "metadata": {
        "id": "UV3MCcWG6q5e"
      }
    },
    {
      "cell_type": "code",
      "source": [
        "y_train.value_counts()"
      ],
      "metadata": {
        "colab": {
          "base_uri": "https://localhost:8080/"
        },
        "id": "Eynu2xjl6gMu",
        "outputId": "9f1910be-d996-4534-fe62-c6a5bfea1896"
      },
      "execution_count": 59,
      "outputs": [
        {
          "output_type": "execute_result",
          "data": {
            "text/plain": [
              "0    6370\n",
              "1    1630\n",
              "Name: Exited, dtype: int64"
            ]
          },
          "metadata": {},
          "execution_count": 59
        }
      ]
    },
    {
      "cell_type": "code",
      "source": [
        "1630/6370"
      ],
      "metadata": {
        "colab": {
          "base_uri": "https://localhost:8080/"
        },
        "id": "xnsNdsmm6kp6",
        "outputId": "472bcc99-a777-4722-d18f-ae59f36bc1d2"
      },
      "execution_count": 60,
      "outputs": [
        {
          "output_type": "execute_result",
          "data": {
            "text/plain": [
              "0.25588697017268447"
            ]
          },
          "metadata": {},
          "execution_count": 60
        }
      ]
    },
    {
      "cell_type": "code",
      "source": [
        "X_train.shape"
      ],
      "metadata": {
        "id": "bVRlUzve6qJy",
        "colab": {
          "base_uri": "https://localhost:8080/"
        },
        "outputId": "2d4e8a24-8470-4381-eeb3-ea9c00ff3457"
      },
      "execution_count": 61,
      "outputs": [
        {
          "output_type": "execute_result",
          "data": {
            "text/plain": [
              "(8000, 10)"
            ]
          },
          "metadata": {},
          "execution_count": 61
        }
      ]
    },
    {
      "cell_type": "markdown",
      "source": [
        "## Model Building"
      ],
      "metadata": {
        "id": "eCrCWCMT71uF"
      }
    },
    {
      "cell_type": "code",
      "source": [
        "from sklearn.pipeline import Pipeline\n",
        "from sklearn.tree import DecisionTreeClassifier\n",
        "model_1 = Pipeline(\n",
        "    [\n",
        "        ('Classifier',  DecisionTreeClassifier())\n",
        "    ]\n",
        "    \n",
        ")\n",
        "\n",
        "model_1.fit(X_train.values,y_train.values)"
      ],
      "metadata": {
        "colab": {
          "base_uri": "https://localhost:8080/"
        },
        "id": "STp0uQfK75aB",
        "outputId": "9cf608e2-bf29-4bbc-898f-707e19dd14cd"
      },
      "execution_count": 62,
      "outputs": [
        {
          "output_type": "execute_result",
          "data": {
            "text/plain": [
              "Pipeline(steps=[('Classifier', DecisionTreeClassifier())])"
            ]
          },
          "metadata": {},
          "execution_count": 62
        }
      ]
    },
    {
      "cell_type": "markdown",
      "source": [
        "## Evaluating the model"
      ],
      "metadata": {
        "id": "NT5lO8Ki86wn"
      }
    },
    {
      "cell_type": "code",
      "source": [
        "y_pred = model_1.predict(X_test.values)"
      ],
      "metadata": {
        "id": "JEOCpVZk8i_m"
      },
      "execution_count": 64,
      "outputs": []
    },
    {
      "cell_type": "code",
      "source": [
        "from sklearn.metrics import classification_report \n",
        "\n",
        "print(classification_report(y_test,y_pred))"
      ],
      "metadata": {
        "colab": {
          "base_uri": "https://localhost:8080/"
        },
        "id": "Czbs7Nhf8sJO",
        "outputId": "a2f601ba-669e-40e1-efbe-21148a61fcb8"
      },
      "execution_count": 65,
      "outputs": [
        {
          "output_type": "stream",
          "name": "stdout",
          "text": [
            "              precision    recall  f1-score   support\n",
            "\n",
            "           0       0.88      0.87      0.88      1593\n",
            "           1       0.52      0.54      0.53       407\n",
            "\n",
            "    accuracy                           0.81      2000\n",
            "   macro avg       0.70      0.71      0.70      2000\n",
            "weighted avg       0.81      0.81      0.81      2000\n",
            "\n"
          ]
        }
      ]
    },
    {
      "cell_type": "markdown",
      "source": [
        ">> Observation : model is moreover guessing 52% . Not a good measure😌"
      ],
      "metadata": {
        "id": "l37zjpFn9E-M"
      }
    },
    {
      "cell_type": "code",
      "source": [],
      "metadata": {
        "id": "l5VadhRx9Y7d"
      },
      "execution_count": null,
      "outputs": []
    }
  ]
}