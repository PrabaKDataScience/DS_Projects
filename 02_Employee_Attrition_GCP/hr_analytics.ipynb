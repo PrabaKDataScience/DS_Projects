{
  "cells": [
    {
      "cell_type": "markdown",
      "metadata": {
        "id": "qN9a3hy8qbUL"
      },
      "source": [
        "#Scope:\n",
        "1. Identify the pattern for leaving employees\n",
        "2. Predict the probablity of whether a employee will stay with organisation or not"
      ]
    },
    {
      "cell_type": "markdown",
      "source": [
        "# Input Data "
      ],
      "metadata": {
        "id": "HVCNEYEKOWr7"
      }
    },
    {
      "cell_type": "markdown",
      "source": [
        "Credit  : Kaggle\n",
        "\n",
        "Dataset Link  : https://www.kaggle.com/code/jacksonchou/hr-analytics/data\n",
        "\n",
        "I downloaded the daatset from above link  and stored it in my google drive."
      ],
      "metadata": {
        "id": "qCd3SzvqOZK7"
      }
    },
    {
      "cell_type": "markdown",
      "source": [
        "## Working with google drive"
      ],
      "metadata": {
        "id": "N0umoxZXRwxb"
      }
    },
    {
      "cell_type": "code",
      "execution_count": null,
      "metadata": {
        "colab": {
          "base_uri": "https://localhost:8080/"
        },
        "id": "Unbcwnr8p3qw",
        "outputId": "b9d97f9a-5e45-45c6-877a-ee7be76e70e9"
      },
      "outputs": [
        {
          "output_type": "stream",
          "name": "stdout",
          "text": [
            "Mounted at /content/drive\n"
          ]
        }
      ],
      "source": [
        "# Mounting the google drive \n",
        "from google.colab import drive\n",
        "drive.mount('/content/drive')"
      ]
    },
    {
      "cell_type": "code",
      "execution_count": null,
      "metadata": {
        "id": "zGjldG-RrLBL"
      },
      "outputs": [],
      "source": [
        "# Copy the file from google drive to google colab (Python 3 Google compute Engine)\n",
        "\n",
        "!cp '/content/drive/MyDrive/HR_comma_sep.csv' .\n"
      ]
    },
    {
      "cell_type": "markdown",
      "source": [
        "# EDA (Exploratory Data Analysis)"
      ],
      "metadata": {
        "id": "RS534qvGSJA-"
      }
    },
    {
      "cell_type": "code",
      "execution_count": null,
      "metadata": {
        "colab": {
          "base_uri": "https://localhost:8080/"
        },
        "id": "8eBFxsofrTuG",
        "outputId": "139a6a9e-7aa9-485c-c122-f55de9d90418"
      },
      "outputs": [
        {
          "output_type": "execute_result",
          "data": {
            "text/plain": [
              "   satisfaction_level  last_evaluation  number_project  average_montly_hours  \\\n",
              "0                0.38             0.53               2                   157   \n",
              "1                0.80             0.86               5                   262   \n",
              "2                0.11             0.88               7                   272   \n",
              "3                0.72             0.87               5                   223   \n",
              "4                0.37             0.52               2                   159   \n",
              "\n",
              "   time_spend_company  Work_accident  left  promotion_last_5years  sales  \\\n",
              "0                   3              0     1                      0  sales   \n",
              "1                   6              0     1                      0  sales   \n",
              "2                   4              0     1                      0  sales   \n",
              "3                   5              0     1                      0  sales   \n",
              "4                   3              0     1                      0  sales   \n",
              "\n",
              "   salary  \n",
              "0     low  \n",
              "1  medium  \n",
              "2  medium  \n",
              "3     low  \n",
              "4     low  "
            ],
            "text/html": [
              "\n",
              "  <div id=\"df-44d70d8a-1c87-4e23-9c89-e674ed2ee64f\">\n",
              "    <div class=\"colab-df-container\">\n",
              "      <div>\n",
              "<style scoped>\n",
              "    .dataframe tbody tr th:only-of-type {\n",
              "        vertical-align: middle;\n",
              "    }\n",
              "\n",
              "    .dataframe tbody tr th {\n",
              "        vertical-align: top;\n",
              "    }\n",
              "\n",
              "    .dataframe thead th {\n",
              "        text-align: right;\n",
              "    }\n",
              "</style>\n",
              "<table border=\"1\" class=\"dataframe\">\n",
              "  <thead>\n",
              "    <tr style=\"text-align: right;\">\n",
              "      <th></th>\n",
              "      <th>satisfaction_level</th>\n",
              "      <th>last_evaluation</th>\n",
              "      <th>number_project</th>\n",
              "      <th>average_montly_hours</th>\n",
              "      <th>time_spend_company</th>\n",
              "      <th>Work_accident</th>\n",
              "      <th>left</th>\n",
              "      <th>promotion_last_5years</th>\n",
              "      <th>sales</th>\n",
              "      <th>salary</th>\n",
              "    </tr>\n",
              "  </thead>\n",
              "  <tbody>\n",
              "    <tr>\n",
              "      <th>0</th>\n",
              "      <td>0.38</td>\n",
              "      <td>0.53</td>\n",
              "      <td>2</td>\n",
              "      <td>157</td>\n",
              "      <td>3</td>\n",
              "      <td>0</td>\n",
              "      <td>1</td>\n",
              "      <td>0</td>\n",
              "      <td>sales</td>\n",
              "      <td>low</td>\n",
              "    </tr>\n",
              "    <tr>\n",
              "      <th>1</th>\n",
              "      <td>0.80</td>\n",
              "      <td>0.86</td>\n",
              "      <td>5</td>\n",
              "      <td>262</td>\n",
              "      <td>6</td>\n",
              "      <td>0</td>\n",
              "      <td>1</td>\n",
              "      <td>0</td>\n",
              "      <td>sales</td>\n",
              "      <td>medium</td>\n",
              "    </tr>\n",
              "    <tr>\n",
              "      <th>2</th>\n",
              "      <td>0.11</td>\n",
              "      <td>0.88</td>\n",
              "      <td>7</td>\n",
              "      <td>272</td>\n",
              "      <td>4</td>\n",
              "      <td>0</td>\n",
              "      <td>1</td>\n",
              "      <td>0</td>\n",
              "      <td>sales</td>\n",
              "      <td>medium</td>\n",
              "    </tr>\n",
              "    <tr>\n",
              "      <th>3</th>\n",
              "      <td>0.72</td>\n",
              "      <td>0.87</td>\n",
              "      <td>5</td>\n",
              "      <td>223</td>\n",
              "      <td>5</td>\n",
              "      <td>0</td>\n",
              "      <td>1</td>\n",
              "      <td>0</td>\n",
              "      <td>sales</td>\n",
              "      <td>low</td>\n",
              "    </tr>\n",
              "    <tr>\n",
              "      <th>4</th>\n",
              "      <td>0.37</td>\n",
              "      <td>0.52</td>\n",
              "      <td>2</td>\n",
              "      <td>159</td>\n",
              "      <td>3</td>\n",
              "      <td>0</td>\n",
              "      <td>1</td>\n",
              "      <td>0</td>\n",
              "      <td>sales</td>\n",
              "      <td>low</td>\n",
              "    </tr>\n",
              "  </tbody>\n",
              "</table>\n",
              "</div>\n",
              "      <button class=\"colab-df-convert\" onclick=\"convertToInteractive('df-44d70d8a-1c87-4e23-9c89-e674ed2ee64f')\"\n",
              "              title=\"Convert this dataframe to an interactive table.\"\n",
              "              style=\"display:none;\">\n",
              "        \n",
              "  <svg xmlns=\"http://www.w3.org/2000/svg\" height=\"24px\"viewBox=\"0 0 24 24\"\n",
              "       width=\"24px\">\n",
              "    <path d=\"M0 0h24v24H0V0z\" fill=\"none\"/>\n",
              "    <path d=\"M18.56 5.44l.94 2.06.94-2.06 2.06-.94-2.06-.94-.94-2.06-.94 2.06-2.06.94zm-11 1L8.5 8.5l.94-2.06 2.06-.94-2.06-.94L8.5 2.5l-.94 2.06-2.06.94zm10 10l.94 2.06.94-2.06 2.06-.94-2.06-.94-.94-2.06-.94 2.06-2.06.94z\"/><path d=\"M17.41 7.96l-1.37-1.37c-.4-.4-.92-.59-1.43-.59-.52 0-1.04.2-1.43.59L10.3 9.45l-7.72 7.72c-.78.78-.78 2.05 0 2.83L4 21.41c.39.39.9.59 1.41.59.51 0 1.02-.2 1.41-.59l7.78-7.78 2.81-2.81c.8-.78.8-2.07 0-2.86zM5.41 20L4 18.59l7.72-7.72 1.47 1.35L5.41 20z\"/>\n",
              "  </svg>\n",
              "      </button>\n",
              "      \n",
              "  <style>\n",
              "    .colab-df-container {\n",
              "      display:flex;\n",
              "      flex-wrap:wrap;\n",
              "      gap: 12px;\n",
              "    }\n",
              "\n",
              "    .colab-df-convert {\n",
              "      background-color: #E8F0FE;\n",
              "      border: none;\n",
              "      border-radius: 50%;\n",
              "      cursor: pointer;\n",
              "      display: none;\n",
              "      fill: #1967D2;\n",
              "      height: 32px;\n",
              "      padding: 0 0 0 0;\n",
              "      width: 32px;\n",
              "    }\n",
              "\n",
              "    .colab-df-convert:hover {\n",
              "      background-color: #E2EBFA;\n",
              "      box-shadow: 0px 1px 2px rgba(60, 64, 67, 0.3), 0px 1px 3px 1px rgba(60, 64, 67, 0.15);\n",
              "      fill: #174EA6;\n",
              "    }\n",
              "\n",
              "    [theme=dark] .colab-df-convert {\n",
              "      background-color: #3B4455;\n",
              "      fill: #D2E3FC;\n",
              "    }\n",
              "\n",
              "    [theme=dark] .colab-df-convert:hover {\n",
              "      background-color: #434B5C;\n",
              "      box-shadow: 0px 1px 3px 1px rgba(0, 0, 0, 0.15);\n",
              "      filter: drop-shadow(0px 1px 2px rgba(0, 0, 0, 0.3));\n",
              "      fill: #FFFFFF;\n",
              "    }\n",
              "  </style>\n",
              "\n",
              "      <script>\n",
              "        const buttonEl =\n",
              "          document.querySelector('#df-44d70d8a-1c87-4e23-9c89-e674ed2ee64f button.colab-df-convert');\n",
              "        buttonEl.style.display =\n",
              "          google.colab.kernel.accessAllowed ? 'block' : 'none';\n",
              "\n",
              "        async function convertToInteractive(key) {\n",
              "          const element = document.querySelector('#df-44d70d8a-1c87-4e23-9c89-e674ed2ee64f');\n",
              "          const dataTable =\n",
              "            await google.colab.kernel.invokeFunction('convertToInteractive',\n",
              "                                                     [key], {});\n",
              "          if (!dataTable) return;\n",
              "\n",
              "          const docLinkHtml = 'Like what you see? Visit the ' +\n",
              "            '<a target=\"_blank\" href=https://colab.research.google.com/notebooks/data_table.ipynb>data table notebook</a>'\n",
              "            + ' to learn more about interactive tables.';\n",
              "          element.innerHTML = '';\n",
              "          dataTable['output_type'] = 'display_data';\n",
              "          await google.colab.output.renderOutput(dataTable, element);\n",
              "          const docLink = document.createElement('div');\n",
              "          docLink.innerHTML = docLinkHtml;\n",
              "          element.appendChild(docLink);\n",
              "        }\n",
              "      </script>\n",
              "    </div>\n",
              "  </div>\n",
              "  "
            ]
          },
          "metadata": {},
          "execution_count": 107
        }
      ],
      "source": [
        "# Loading the data and creating a dataframe using pandas library \n",
        "import pandas as pd\n",
        "df = pd.read_csv('/content/HR_comma_sep.csv')\n",
        "df.head()"
      ]
    },
    {
      "cell_type": "code",
      "execution_count": null,
      "metadata": {
        "colab": {
          "base_uri": "https://localhost:8080/"
        },
        "id": "xl1ZN8cGrj8H",
        "outputId": "6a330fca-7a96-4092-c2dd-1a1d9cf43e4d"
      },
      "outputs": [
        {
          "output_type": "execute_result",
          "data": {
            "text/plain": [
              "(14999, 10)"
            ]
          },
          "metadata": {},
          "execution_count": 108
        }
      ],
      "source": [
        "# Gettign the size of the dataframe \n",
        "df.shape"
      ]
    },
    {
      "cell_type": "code",
      "source": [
        "df.columns"
      ],
      "metadata": {
        "colab": {
          "base_uri": "https://localhost:8080/"
        },
        "id": "KoxAMtM0Sg8r",
        "outputId": "ee2d3ae8-fc27-417b-823f-6e6b95dd5399"
      },
      "execution_count": null,
      "outputs": [
        {
          "output_type": "execute_result",
          "data": {
            "text/plain": [
              "Index(['satisfaction_level', 'last_evaluation', 'number_project',\n",
              "       'average_montly_hours', 'time_spend_company', 'Work_accident', 'left',\n",
              "       'promotion_last_5years', 'sales', 'salary'],\n",
              "      dtype='object')"
            ]
          },
          "metadata": {},
          "execution_count": 109
        }
      ]
    },
    {
      "cell_type": "code",
      "execution_count": null,
      "metadata": {
        "colab": {
          "base_uri": "https://localhost:8080/"
        },
        "id": "NS83z4KPt8Et",
        "outputId": "2393a124-d168-4a44-cf6b-5222f09c70b4"
      },
      "outputs": [
        {
          "output_type": "stream",
          "name": "stdout",
          "text": [
            "Null values in column satisfaction_level is  => 0\n",
            "Null values in column last_evaluation is  => 0\n",
            "Null values in column number_project is  => 0\n",
            "Null values in column average_montly_hours is  => 0\n",
            "Null values in column time_spend_company is  => 0\n",
            "Null values in column Work_accident is  => 0\n",
            "Null values in column left is  => 0\n",
            "Null values in column promotion_last_5years is  => 0\n",
            "Null values in column sales is  => 0\n",
            "Null values in column salary is  => 0\n"
          ]
        }
      ],
      "source": [
        "# Checking whether there is any null values in any entry:\n",
        "for column in df.columns:\n",
        "  count_nan = df[column].isnull().sum()\n",
        "  print(f'Null values in column {column} is  => {count_nan}')"
      ]
    },
    {
      "cell_type": "code",
      "execution_count": null,
      "metadata": {
        "colab": {
          "base_uri": "https://localhost:8080/"
        },
        "id": "2mvsdaw3roAW",
        "outputId": "1acbf1bf-e072-4254-e811-02d6e7414d58"
      },
      "outputs": [
        {
          "output_type": "execute_result",
          "data": {
            "text/plain": [
              "0    11428\n",
              "1     3571\n",
              "Name: left, dtype: int64"
            ]
          },
          "metadata": {},
          "execution_count": 111
        }
      ],
      "source": [
        "# The column named left gives us whether employee stays with the company or not which is our target\n",
        "\n",
        "df.left.value_counts()"
      ]
    },
    {
      "cell_type": "markdown",
      "source": [
        "> The data is imbalanecd , but in this case we can not expect the balance based on the nature of the problem we are solving ."
      ],
      "metadata": {
        "id": "qBvIelbiS-pb"
      }
    },
    {
      "cell_type": "markdown",
      "source": [
        "### Number of Projects Vs Employee Leaving"
      ],
      "metadata": {
        "id": "HelxcC_OT-_o"
      }
    },
    {
      "cell_type": "code",
      "execution_count": null,
      "metadata": {
        "colab": {
          "base_uri": "https://localhost:8080/"
        },
        "id": "WW-o6g5nr1E6",
        "outputId": "ae9e6b0f-0946-42d5-d145-5896a390af75"
      },
      "outputs": [
        {
          "output_type": "display_data",
          "data": {
            "text/plain": [
              "<Figure size 432x288 with 1 Axes>"
            ],
            "image/png": "[encoded data removed]"
          },
          "metadata": {
            "needs_background": "light"
          }
        }
      ],
      "source": [
        "# Exploring the impact of Number of Projects vs Employee Leaving \n",
        "\n",
        "import matplotlib.pyplot as plt\n",
        "plt.ylabel('Employees')\n",
        "plt.xlabel('Number of Projects')\n",
        "plt.hist(df.number_project,bins=10);"
      ]
    },
    {
      "cell_type": "code",
      "execution_count": null,
      "metadata": {
        "colab": {
          "base_uri": "https://localhost:8080/"
        },
        "id": "UO2JwRHLs4yS",
        "outputId": "e3d055f2-ae95-4e40-88bc-5975bfd9acc0"
      },
      "outputs": [
        {
          "output_type": "display_data",
          "data": {
            "text/plain": [
              "<Figure size 432x288 with 1 Axes>"
            ],
            "image/png": "[encoded data removed]"
          },
          "metadata": {
            "needs_background": "light"
          }
        }
      ],
      "source": [
        "plt.title('Employees STAY ')\n",
        "plt.ylabel('Employees')\n",
        "plt.xlabel('Number of Projects')\n",
        "plt.hist(df.loc[df.left!=1]['number_project'],bins=10);"
      ]
    },
    {
      "cell_type": "code",
      "execution_count": null,
      "metadata": {
        "colab": {
          "base_uri": "https://localhost:8080/"
        },
        "id": "X8Bqf8KftYkV",
        "outputId": "adf952af-1a9a-40bb-d8d7-2d28f005624a"
      },
      "outputs": [
        {
          "output_type": "display_data",
          "data": {
            "text/plain": [
              "<Figure size 432x288 with 1 Axes>"
            ],
            "image/png": "[encoded data removed]"
          },
          "metadata": {
            "needs_background": "light"
          }
        }
      ],
      "source": [
        "plt.title('Employees LEFT ')\n",
        "plt.ylabel('Employees')\n",
        "plt.xlabel('Number of Projects')\n",
        "plt.hist(df.loc[df.left==1]['number_project'],bins=10,);"
      ]
    },
    {
      "cell_type": "code",
      "execution_count": null,
      "metadata": {
        "colab": {
          "base_uri": "https://localhost:8080/"
        },
        "id": "zeWHcDD_ywxJ",
        "outputId": "ce4f35f5-7332-4562-a3f1-dd6252c48c22"
      },
      "outputs": [
        {
          "output_type": "execute_result",
          "data": {
            "text/plain": [
              "<matplotlib.axes._subplots.AxesSubplot at 0x7f43c23cd590>"
            ]
          },
          "metadata": {},
          "execution_count": 115
        },
        {
          "output_type": "display_data",
          "data": {
            "text/plain": [
              "<Figure size 432x288 with 1 Axes>"
            ],
            "image/png": "[encoded data removed]"
          },
          "metadata": {
            "needs_background": "light"
          }
        }
      ],
      "source": [
        "# In order to compare we need to combine the above two plots \n",
        "import seaborn as sns\n",
        "plt.ylabel('Employees')\n",
        "sns.histplot(data=df, x=\"number_project\", hue=\"left\",multiple=\"dodge\", shrink=.8)"
      ]
    },
    {
      "cell_type": "markdown",
      "metadata": {
        "id": "-_XaEtAqti9e"
      },
      "source": [
        "> Based on the number of projects (HIGH) , the employee leaves the organisation , Also persons allocated to two projects also left organisation in a considerable amount, there could be additional reason such as project pressure, compensation , recognisation etc as a reason"
      ]
    },
    {
      "cell_type": "markdown",
      "source": [
        "### Avergae Monthly Hours Vs Employee Leaving"
      ],
      "metadata": {
        "id": "Lzo77oyIUnwN"
      }
    },
    {
      "cell_type": "code",
      "execution_count": null,
      "metadata": {
        "colab": {
          "base_uri": "https://localhost:8080/"
        },
        "id": "DGQ1zHLSt4FP",
        "outputId": "699237d3-eafd-4f90-f1df-f0a7a81f6eed"
      },
      "outputs": [
        {
          "output_type": "execute_result",
          "data": {
            "text/plain": [
              "<matplotlib.axes._subplots.AxesSubplot at 0x7f43c23b0b10>"
            ]
          },
          "metadata": {},
          "execution_count": 116
        },
        {
          "output_type": "display_data",
          "data": {
            "text/plain": [
              "<Figure size 432x288 with 1 Axes>"
            ],
            "image/png": "[encoded data removed]"
          },
          "metadata": {
            "needs_background": "light"
          }
        }
      ],
      "source": [
        "sns.histplot(data=df, x=\"average_montly_hours\", hue=\"left\",element='poly')"
      ]
    },
    {
      "cell_type": "code",
      "execution_count": null,
      "metadata": {
        "colab": {
          "base_uri": "https://localhost:8080/"
        },
        "id": "dj700lcj1xeQ",
        "outputId": "a3c53112-7180-4ad0-cccc-1ef81a0be70b"
      },
      "outputs": [
        {
          "output_type": "execute_result",
          "data": {
            "text/plain": [
              "<matplotlib.axes._subplots.AxesSubplot at 0x7f43c23bb190>"
            ]
          },
          "metadata": {},
          "execution_count": 117
        },
        {
          "output_type": "display_data",
          "data": {
            "text/plain": [
              "<Figure size 432x288 with 1 Axes>"
            ],
            "image/png": "[encoded data removed]"
          },
          "metadata": {
            "needs_background": "light"
          }
        }
      ],
      "source": [
        "\n",
        "sns.histplot(data=df, x=\"average_montly_hours\", hue=\"left\",multiple=\"dodge\", shrink=.8)"
      ]
    },
    {
      "cell_type": "markdown",
      "metadata": {
        "id": "rZVhnmzA2BpU"
      },
      "source": [
        "\n",
        "> Those who are working more hours , high probablity of leaving the organisation\n",
        "---\n",
        "\n"
      ]
    },
    {
      "cell_type": "markdown",
      "source": [
        "# Pre- processing"
      ],
      "metadata": {
        "id": "kcezvyvoU4B0"
      }
    },
    {
      "cell_type": "code",
      "source": [
        "from sklearn.preprocessing import LabelEncoder\n",
        "encoder = LabelEncoder()\n",
        "df['department']=encoder.fit_transform(df['sales'])\n",
        "df['salary']=df['salary'].map({'low':1,'medium':2,'high':3})"
      ],
      "metadata": {
        "id": "mVP7Wf6ZA-_c"
      },
      "execution_count": null,
      "outputs": []
    },
    {
      "cell_type": "code",
      "source": [
        "encoder.classes_"
      ],
      "metadata": {
        "colab": {
          "base_uri": "https://localhost:8080/"
        },
        "id": "u3Rv8LpYBfuY",
        "outputId": "4be656e4-0dc6-4c65-8ebc-4a656de291d8"
      },
      "execution_count": null,
      "outputs": [
        {
          "output_type": "execute_result",
          "data": {
            "text/plain": [
              "array(['IT', 'RandD', 'accounting', 'hr', 'management', 'marketing',\n",
              "       'product_mng', 'sales', 'support', 'technical'], dtype=object)"
            ]
          },
          "metadata": {},
          "execution_count": 119
        }
      ]
    },
    {
      "cell_type": "code",
      "source": [
        "# There is no need for column sales since that represented by new column of info\n",
        "# we created by encoding\n",
        "\n",
        "df.drop(['sales'],axis=1,inplace=True)"
      ],
      "metadata": {
        "id": "0ZAtktxTBu58"
      },
      "execution_count": null,
      "outputs": []
    },
    {
      "cell_type": "code",
      "source": [
        "df.head()"
      ],
      "metadata": {
        "colab": {
          "base_uri": "https://localhost:8080/",
          "height": 270
        },
        "id": "16Jems2nB80p",
        "outputId": "dfdbd248-7249-4fa7-fbea-9ffbacd47576"
      },
      "execution_count": null,
      "outputs": [
        {
          "output_type": "execute_result",
          "data": {
            "text/plain": [
              "   satisfaction_level  last_evaluation  number_project  average_montly_hours  \\\n",
              "0                0.38             0.53               2                   157   \n",
              "1                0.80             0.86               5                   262   \n",
              "2                0.11             0.88               7                   272   \n",
              "3                0.72             0.87               5                   223   \n",
              "4                0.37             0.52               2                   159   \n",
              "\n",
              "   time_spend_company  Work_accident  left  promotion_last_5years  salary  \\\n",
              "0                   3              0     1                      0       1   \n",
              "1                   6              0     1                      0       2   \n",
              "2                   4              0     1                      0       2   \n",
              "3                   5              0     1                      0       1   \n",
              "4                   3              0     1                      0       1   \n",
              "\n",
              "   department  \n",
              "0           7  \n",
              "1           7  \n",
              "2           7  \n",
              "3           7  \n",
              "4           7  "
            ],
            "text/html": [
              "\n",
              "  <div id=\"df-d44fbf2f-7458-4d5c-94b4-69821225cf1e\">\n",
              "    <div class=\"colab-df-container\">\n",
              "      <div>\n",
              "<style scoped>\n",
              "    .dataframe tbody tr th:only-of-type {\n",
              "        vertical-align: middle;\n",
              "    }\n",
              "\n",
              "    .dataframe tbody tr th {\n",
              "        vertical-align: top;\n",
              "    }\n",
              "\n",
              "    .dataframe thead th {\n",
              "        text-align: right;\n",
              "    }\n",
              "</style>\n",
              "<table border=\"1\" class=\"dataframe\">\n",
              "  <thead>\n",
              "    <tr style=\"text-align: right;\">\n",
              "      <th></th>\n",
              "      <th>satisfaction_level</th>\n",
              "      <th>last_evaluation</th>\n",
              "      <th>number_project</th>\n",
              "      <th>average_montly_hours</th>\n",
              "      <th>time_spend_company</th>\n",
              "      <th>Work_accident</th>\n",
              "      <th>left</th>\n",
              "      <th>promotion_last_5years</th>\n",
              "      <th>salary</th>\n",
              "      <th>department</th>\n",
              "    </tr>\n",
              "  </thead>\n",
              "  <tbody>\n",
              "    <tr>\n",
              "      <th>0</th>\n",
              "      <td>0.38</td>\n",
              "      <td>0.53</td>\n",
              "      <td>2</td>\n",
              "      <td>157</td>\n",
              "      <td>3</td>\n",
              "      <td>0</td>\n",
              "      <td>1</td>\n",
              "      <td>0</td>\n",
              "      <td>1</td>\n",
              "      <td>7</td>\n",
              "    </tr>\n",
              "    <tr>\n",
              "      <th>1</th>\n",
              "      <td>0.80</td>\n",
              "      <td>0.86</td>\n",
              "      <td>5</td>\n",
              "      <td>262</td>\n",
              "      <td>6</td>\n",
              "      <td>0</td>\n",
              "      <td>1</td>\n",
              "      <td>0</td>\n",
              "      <td>2</td>\n",
              "      <td>7</td>\n",
              "    </tr>\n",
              "    <tr>\n",
              "      <th>2</th>\n",
              "      <td>0.11</td>\n",
              "      <td>0.88</td>\n",
              "      <td>7</td>\n",
              "      <td>272</td>\n",
              "      <td>4</td>\n",
              "      <td>0</td>\n",
              "      <td>1</td>\n",
              "      <td>0</td>\n",
              "      <td>2</td>\n",
              "      <td>7</td>\n",
              "    </tr>\n",
              "    <tr>\n",
              "      <th>3</th>\n",
              "      <td>0.72</td>\n",
              "      <td>0.87</td>\n",
              "      <td>5</td>\n",
              "      <td>223</td>\n",
              "      <td>5</td>\n",
              "      <td>0</td>\n",
              "      <td>1</td>\n",
              "      <td>0</td>\n",
              "      <td>1</td>\n",
              "      <td>7</td>\n",
              "    </tr>\n",
              "    <tr>\n",
              "      <th>4</th>\n",
              "      <td>0.37</td>\n",
              "      <td>0.52</td>\n",
              "      <td>2</td>\n",
              "      <td>159</td>\n",
              "      <td>3</td>\n",
              "      <td>0</td>\n",
              "      <td>1</td>\n",
              "      <td>0</td>\n",
              "      <td>1</td>\n",
              "      <td>7</td>\n",
              "    </tr>\n",
              "  </tbody>\n",
              "</table>\n",
              "</div>\n",
              "      <button class=\"colab-df-convert\" onclick=\"convertToInteractive('df-d44fbf2f-7458-4d5c-94b4-69821225cf1e')\"\n",
              "              title=\"Convert this dataframe to an interactive table.\"\n",
              "              style=\"display:none;\">\n",
              "        \n",
              "  <svg xmlns=\"http://www.w3.org/2000/svg\" height=\"24px\"viewBox=\"0 0 24 24\"\n",
              "       width=\"24px\">\n",
              "    <path d=\"M0 0h24v24H0V0z\" fill=\"none\"/>\n",
              "    <path d=\"M18.56 5.44l.94 2.06.94-2.06 2.06-.94-2.06-.94-.94-2.06-.94 2.06-2.06.94zm-11 1L8.5 8.5l.94-2.06 2.06-.94-2.06-.94L8.5 2.5l-.94 2.06-2.06.94zm10 10l.94 2.06.94-2.06 2.06-.94-2.06-.94-.94-2.06-.94 2.06-2.06.94z\"/><path d=\"M17.41 7.96l-1.37-1.37c-.4-.4-.92-.59-1.43-.59-.52 0-1.04.2-1.43.59L10.3 9.45l-7.72 7.72c-.78.78-.78 2.05 0 2.83L4 21.41c.39.39.9.59 1.41.59.51 0 1.02-.2 1.41-.59l7.78-7.78 2.81-2.81c.8-.78.8-2.07 0-2.86zM5.41 20L4 18.59l7.72-7.72 1.47 1.35L5.41 20z\"/>\n",
              "  </svg>\n",
              "      </button>\n",
              "      \n",
              "  <style>\n",
              "    .colab-df-container {\n",
              "      display:flex;\n",
              "      flex-wrap:wrap;\n",
              "      gap: 12px;\n",
              "    }\n",
              "\n",
              "    .colab-df-convert {\n",
              "      background-color: #E8F0FE;\n",
              "      border: none;\n",
              "      border-radius: 50%;\n",
              "      cursor: pointer;\n",
              "      display: none;\n",
              "      fill: #1967D2;\n",
              "      height: 32px;\n",
              "      padding: 0 0 0 0;\n",
              "      width: 32px;\n",
              "    }\n",
              "\n",
              "    .colab-df-convert:hover {\n",
              "      background-color: #E2EBFA;\n",
              "      box-shadow: 0px 1px 2px rgba(60, 64, 67, 0.3), 0px 1px 3px 1px rgba(60, 64, 67, 0.15);\n",
              "      fill: #174EA6;\n",
              "    }\n",
              "\n",
              "    [theme=dark] .colab-df-convert {\n",
              "      background-color: #3B4455;\n",
              "      fill: #D2E3FC;\n",
              "    }\n",
              "\n",
              "    [theme=dark] .colab-df-convert:hover {\n",
              "      background-color: #434B5C;\n",
              "      box-shadow: 0px 1px 3px 1px rgba(0, 0, 0, 0.15);\n",
              "      filter: drop-shadow(0px 1px 2px rgba(0, 0, 0, 0.3));\n",
              "      fill: #FFFFFF;\n",
              "    }\n",
              "  </style>\n",
              "\n",
              "      <script>\n",
              "        const buttonEl =\n",
              "          document.querySelector('#df-d44fbf2f-7458-4d5c-94b4-69821225cf1e button.colab-df-convert');\n",
              "        buttonEl.style.display =\n",
              "          google.colab.kernel.accessAllowed ? 'block' : 'none';\n",
              "\n",
              "        async function convertToInteractive(key) {\n",
              "          const element = document.querySelector('#df-d44fbf2f-7458-4d5c-94b4-69821225cf1e');\n",
              "          const dataTable =\n",
              "            await google.colab.kernel.invokeFunction('convertToInteractive',\n",
              "                                                     [key], {});\n",
              "          if (!dataTable) return;\n",
              "\n",
              "          const docLinkHtml = 'Like what you see? Visit the ' +\n",
              "            '<a target=\"_blank\" href=https://colab.research.google.com/notebooks/data_table.ipynb>data table notebook</a>'\n",
              "            + ' to learn more about interactive tables.';\n",
              "          element.innerHTML = '';\n",
              "          dataTable['output_type'] = 'display_data';\n",
              "          await google.colab.output.renderOutput(dataTable, element);\n",
              "          const docLink = document.createElement('div');\n",
              "          docLink.innerHTML = docLinkHtml;\n",
              "          element.appendChild(docLink);\n",
              "        }\n",
              "      </script>\n",
              "    </div>\n",
              "  </div>\n",
              "  "
            ]
          },
          "metadata": {},
          "execution_count": 121
        }
      ]
    },
    {
      "cell_type": "code",
      "source": [
        "# Feature should not contain the taget label , hence dropping the column \n",
        "features = df.drop('left',axis=1)"
      ],
      "metadata": {
        "id": "urO118ty7lQT"
      },
      "execution_count": null,
      "outputs": []
    },
    {
      "cell_type": "code",
      "source": [
        "# Extracting only the taget from the dataframe\n",
        "labels = df['left']"
      ],
      "metadata": {
        "id": "d2PBqv4Z7u1X"
      },
      "execution_count": null,
      "outputs": []
    },
    {
      "cell_type": "markdown",
      "source": [
        "## Split the dataset"
      ],
      "metadata": {
        "id": "QaXoPQSYVdzc"
      }
    },
    {
      "cell_type": "code",
      "source": [
        "from sklearn.model_selection import train_test_split as tts\n",
        "X_train,X_test,y_train,y_test = tts(features,labels,test_size=0.2,random_state=42,stratify=labels)"
      ],
      "metadata": {
        "id": "gEuHvtXq7Mmi"
      },
      "execution_count": null,
      "outputs": []
    },
    {
      "cell_type": "code",
      "source": [
        "print(f\"The shape of the X_train {X_train.shape}\")\n",
        "print(f\"The shape of the X_test {X_test.shape}\")\n",
        "print(f\"The shape of the y_train {y_train.shape}\")\n",
        "print(f\"The shape of the y_test {y_test.shape}\")"
      ],
      "metadata": {
        "colab": {
          "base_uri": "https://localhost:8080/"
        },
        "id": "2p4TaGc277V7",
        "outputId": "3e0495a8-332f-4c80-d1bf-64136e7527ab"
      },
      "execution_count": null,
      "outputs": [
        {
          "output_type": "stream",
          "name": "stdout",
          "text": [
            "The shape of the X_train (11999, 9)\n",
            "The shape of the X_test (3000, 9)\n",
            "The shape of the y_train (11999,)\n",
            "The shape of the y_test (3000,)\n"
          ]
        }
      ]
    },
    {
      "cell_type": "markdown",
      "source": [
        "### Scaling"
      ],
      "metadata": {
        "id": "3etaW9qlVipa"
      }
    },
    {
      "cell_type": "markdown",
      "source": [
        "> We have to do scaling to have the feature values in certain range \n",
        "\n",
        "> ML models performs better on scaled data"
      ],
      "metadata": {
        "id": "T2qoucT6V1BF"
      }
    },
    {
      "cell_type": "code",
      "source": [
        "monthly_hours_min = X_train.average_montly_hours.min()\n",
        "monthly_hours_max = X_train.average_montly_hours.max()\n",
        "time_spend_min = X_train.time_spend_company.min()\n",
        "time_spend_max =X_train.time_spend_company.max()"
      ],
      "metadata": {
        "id": "RjFgPuti4sYc"
      },
      "execution_count": null,
      "outputs": []
    },
    {
      "cell_type": "code",
      "source": [
        "print(X_train.average_montly_hours.min(), X_train.average_montly_hours.max())\n",
        "print(X_train.time_spend_company.min(), X_train.time_spend_company.max())"
      ],
      "metadata": {
        "colab": {
          "base_uri": "https://localhost:8080/"
        },
        "id": "vBStwfEq2iMk",
        "outputId": "6c41b5f0-907e-4bc7-d6a6-24e067a0e29a"
      },
      "execution_count": null,
      "outputs": [
        {
          "output_type": "stream",
          "name": "stdout",
          "text": [
            "96 310\n",
            "2 10\n"
          ]
        }
      ]
    },
    {
      "cell_type": "code",
      "source": [
        "from sklearn.preprocessing import MinMaxScaler\n",
        "\n",
        "scaler = MinMaxScaler()\n",
        "\n",
        "# We are applying scaler transformation for the two columns in single step\n",
        "X_train[['average_montly_hours','time_spend_company']] = scaler.fit_transform(\n",
        "    X_train[['average_montly_hours','time_spend_company']].values)\n",
        "print(X_train.average_montly_hours.min(), X_train.average_montly_hours.max())\n",
        "print(X_train.time_spend_company.min(), X_train.time_spend_company.max())\n"
      ],
      "metadata": {
        "colab": {
          "base_uri": "https://localhost:8080/"
        },
        "id": "72xW4Wun8QYF",
        "outputId": "a0a606fc-c0e2-4fbd-abdf-6c627e2f372a"
      },
      "execution_count": null,
      "outputs": [
        {
          "output_type": "stream",
          "name": "stdout",
          "text": [
            "0.0 0.9999999999999999\n",
            "0.0 1.0\n"
          ]
        }
      ]
    },
    {
      "cell_type": "markdown",
      "source": [
        "> We have to transform the test dataset \n",
        "\n",
        "🎨 **Note**: In practice we get the test data after building the model, hence we have to fit only the train data to scaler transformer. "
      ],
      "metadata": {
        "id": "BA5jHEXWWQQk"
      }
    },
    {
      "cell_type": "code",
      "source": [
        "X_test[['average_montly_hours','time_spend_company']] = scaler.transform(\n",
        "    X_test[['average_montly_hours','time_spend_company']])"
      ],
      "metadata": {
        "id": "uLHLOcBiVscm",
        "colab": {
          "base_uri": "https://localhost:8080/"
        },
        "outputId": "a07db31f-4e81-4b32-b5dc-ba3b87e368d5"
      },
      "execution_count": null,
      "outputs": [
        {
          "output_type": "stream",
          "name": "stderr",
          "text": [
            "/usr/local/lib/python3.7/dist-packages/sklearn/base.py:444: UserWarning: X has feature names, but MinMaxScaler was fitted without feature names\n",
            "  f\"X has feature names, but {self.__class__.__name__} was fitted without\"\n"
          ]
        }
      ]
    },
    {
      "cell_type": "markdown",
      "source": [
        "#Model"
      ],
      "metadata": {
        "id": "7p372DcuXFgj"
      }
    },
    {
      "cell_type": "markdown",
      "source": [
        "## Pipeline - bulid model"
      ],
      "metadata": {
        "id": "R1gCrinwW-tF"
      }
    },
    {
      "cell_type": "code",
      "source": [
        "from sklearn.pipeline import Pipeline\n",
        "from sklearn.ensemble import RandomForestClassifier\n",
        "\n",
        "model = Pipeline(\n",
        "    [\n",
        "        ('clf',RandomForestClassifier())\n",
        "    ]\n",
        ")\n",
        "\n",
        "# Avoid fitting X_train , it will fit with feature names\n",
        "# This makes when we get user input for prediction\n",
        "model.fit(X_train.values,y_train.values)\n"
      ],
      "metadata": {
        "colab": {
          "base_uri": "https://localhost:8080/"
        },
        "id": "PpP1s_OPDeC_",
        "outputId": "2c1d153b-04a7-4d38-9a30-2fccaca5d88b"
      },
      "execution_count": null,
      "outputs": [
        {
          "output_type": "execute_result",
          "data": {
            "text/plain": [
              "Pipeline(steps=[('clf', RandomForestClassifier())])"
            ]
          },
          "metadata": {},
          "execution_count": 130
        }
      ]
    },
    {
      "cell_type": "markdown",
      "source": [
        "## Predict "
      ],
      "metadata": {
        "id": "SiGy9Yl9XKcK"
      }
    },
    {
      "cell_type": "code",
      "source": [
        "y_pred = model.predict(X_test.values)"
      ],
      "metadata": {
        "id": "40RITUbNEHGK"
      },
      "execution_count": null,
      "outputs": []
    },
    {
      "cell_type": "markdown",
      "source": [
        "## Evaluate the model"
      ],
      "metadata": {
        "id": "RC2i1klGXMzb"
      }
    },
    {
      "cell_type": "code",
      "source": [
        "from sklearn.metrics import classification_report\n",
        "\n",
        "print(classification_report(y_test, y_pred))"
      ],
      "metadata": {
        "colab": {
          "base_uri": "https://localhost:8080/"
        },
        "id": "jBGuugYKEKgV",
        "outputId": "8d341d39-6264-423f-d23b-c923966a620e"
      },
      "execution_count": null,
      "outputs": [
        {
          "output_type": "stream",
          "name": "stdout",
          "text": [
            "              precision    recall  f1-score   support\n",
            "\n",
            "           0       0.99      1.00      0.99      2286\n",
            "           1       0.99      0.96      0.98       714\n",
            "\n",
            "    accuracy                           0.99      3000\n",
            "   macro avg       0.99      0.98      0.99      3000\n",
            "weighted avg       0.99      0.99      0.99      3000\n",
            "\n"
          ]
        }
      ]
    },
    {
      "cell_type": "markdown",
      "source": [
        "## Save the model"
      ],
      "metadata": {
        "id": "vS2eco-UajWW"
      }
    },
    {
      "cell_type": "code",
      "source": [
        "import joblib\n",
        "# save the model to disk\n",
        "filename = 'hr_analytics_model.sav'\n",
        "joblib.dump(model, filename)\n",
        " "
      ],
      "metadata": {
        "colab": {
          "base_uri": "https://localhost:8080/"
        },
        "id": "8pLp5xmdalxR",
        "outputId": "c11dc8d9-6e9b-49b9-e5ed-a444f109828a"
      },
      "execution_count": null,
      "outputs": [
        {
          "output_type": "execute_result",
          "data": {
            "text/plain": [
              "['hr_analytics_model.sav']"
            ]
          },
          "metadata": {},
          "execution_count": 147
        }
      ]
    },
    {
      "cell_type": "code",
      "source": [
        "\n",
        "# load the model from disk\n",
        "loaded_model = joblib.load(filename)\n",
        "result = loaded_model.score(X_test.values, y_test.values)\n",
        "print(result)"
      ],
      "metadata": {
        "colab": {
          "base_uri": "https://localhost:8080/"
        },
        "id": "QR6849Rla8lo",
        "outputId": "ef50fb57-b24b-42c4-cabb-e82584ffa538"
      },
      "execution_count": null,
      "outputs": [
        {
          "output_type": "stream",
          "name": "stdout",
          "text": [
            "0.9903333333333333\n"
          ]
        }
      ]
    },
    {
      "cell_type": "code",
      "source": [],
      "metadata": {
        "id": "Mla45zCTz662"
      },
      "execution_count": null,
      "outputs": []
    },
    {
      "cell_type": "markdown",
      "source": [
        "# User Input"
      ],
      "metadata": {
        "id": "-KF9KFXKKwj9"
      }
    },
    {
      "cell_type": "markdown",
      "source": [
        ">  \n",
        "\n",
        "\n",
        "\n",
        "1. You can create a web app and receive user inputs and pass it to the model\n",
        "2. Prediction at server \n",
        "3. send the output to client\n",
        "\n"
      ],
      "metadata": {
        "id": "MFrjmreZXXir"
      }
    },
    {
      "cell_type": "code",
      "source": [
        "# User Input \n",
        "satisfaction_level = 0.7  #( 0 to 1 )\n",
        "last_evaluation = 0.8   #(0 to 1 )\n",
        "number_project = 4     #(Actual numbers)\n",
        "user_average_monthly_hours = 330 #(Actual hours)    # TO BE SCALED In the range of training min max data\n",
        "user_time_spend_company =  10 #(Actual hours per day)  # TO BE SCALED In the range of training min max data\n",
        "Work_accident = 0 #(If incurred accident in working time)\n",
        "promotion_last_5years = 1 #(Discrete o or 1 )\n",
        "salary = 3 #( 1 for low , 2 for medium , 3 for high)\n",
        "department = 3 #( {'IT':0, 'RandD':1, 'accounting':2, 'hr':3, 'management':4, 'marketing':5,'product_mng':6, 'sales':7, 'support':8, 'technical':9)"
      ],
      "metadata": {
        "id": "LjzBxXaVEhd5"
      },
      "execution_count": null,
      "outputs": []
    },
    {
      "cell_type": "code",
      "source": [
        "# User Input \n",
        "satisfaction_level = 0.4  #( 0 to 1 )\n",
        "last_evaluation = 0.5   #(0 to 1 )\n",
        "number_project = 6     #(Actual numbers)\n",
        "user_average_monthly_hours = 320 #(Actual hours)    # TO BE SCALED In the range of training min max data\n",
        "user_time_spend_company =  1 #(Actual hours per day)  # TO BE SCALED In the range of training min max data\n",
        "Work_accident = 0 #(If incurred accident in working time)\n",
        "promotion_last_5years = 0 #(Discrete o or 1 )\n",
        "salary = 2 #( 1 for low , 2 for medium , 3 for high)\n",
        "department = 5 #( {'IT':0, 'RandD':1, 'accounting':2, 'hr':3, 'management':4, 'marketing':5,'product_mng':6, 'sales':7, 'support':8, 'technical':9)"
      ],
      "metadata": {
        "id": "ztRzqb81DAEJ"
      },
      "execution_count": null,
      "outputs": []
    },
    {
      "cell_type": "markdown",
      "source": [
        "![image.png](data:image/png;base64,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)"
      ],
      "metadata": {
        "id": "YfussN7l4YtA"
      }
    },
    {
      "cell_type": "code",
      "source": [
        "# For Ref only (NEVER UNCOMMENT THIS)\n",
        "\n",
        "# monthly_hours_min = X_train.average_montly_hours.min()\n",
        "# monthly_hours_max = X_train.average_montly_hours.max()\n",
        "# time_spend_min = X_train.time_spend_company.min()\n",
        "# time_spend_max =X_train.time_spend_company.max()"
      ],
      "metadata": {
        "id": "qlg-CL6W5CkZ"
      },
      "execution_count": null,
      "outputs": []
    },
    {
      "cell_type": "code",
      "source": [
        "scaled_average_monthly_hours = (user_average_monthly_hours-monthly_hours_min)/(\n",
        "    monthly_hours_max-monthly_hours_min\n",
        ")\n",
        "\n",
        "scaled_time_spend = (user_time_spend_company-time_spend_min)/(time_spend_max-time_spend_min)"
      ],
      "metadata": {
        "id": "HadY_QUP4R33"
      },
      "execution_count": null,
      "outputs": []
    },
    {
      "cell_type": "code",
      "source": [
        "print(scaled_average_monthly_hours, scaled_time_spend)"
      ],
      "metadata": {
        "colab": {
          "base_uri": "https://localhost:8080/"
        },
        "id": "A7mBqUeJ57Fi",
        "outputId": "3ef22310-3716-4bf4-fd54-8de10a648883"
      },
      "execution_count": null,
      "outputs": [
        {
          "output_type": "stream",
          "name": "stdout",
          "text": [
            "1.0467289719626167 -0.125\n"
          ]
        }
      ]
    },
    {
      "cell_type": "markdown",
      "source": [
        "We have to create the inputs as numpy array  "
      ],
      "metadata": {
        "id": "OW_dzaSjX2sP"
      }
    },
    {
      "cell_type": "code",
      "source": [
        "import numpy as np \n",
        "user_input_array=np.array([satisfaction_level,last_evaluation,number_project,\n",
        "                           scaled_average_monthly_hours,scaled_time_spend,\n",
        "                           Work_accident,promotion_last_5years,\n",
        "                          salary,department])\n",
        "\n",
        "# The array should be of 2d , hence expanding the dims\n",
        "reshaped_user_input_array = np.expand_dims(user_input_array, axis=0)\n",
        "#print(reshaped_test.shape)"
      ],
      "metadata": {
        "id": "STLaZAHBHfbB"
      },
      "execution_count": null,
      "outputs": []
    },
    {
      "cell_type": "markdown",
      "source": [],
      "metadata": {
        "id": "rQnwUQRGX-PC"
      }
    },
    {
      "cell_type": "code",
      "source": [
        "# Predict \n",
        "pred = model.predict(reshaped_user_input_array)\n",
        "\n",
        "# Predict the probablity\n",
        "pred_prob = model.predict_proba(reshaped_user_input_array)\n",
        "\n",
        "print(pred_prob)\n",
        "\n",
        "if pred:\n",
        "  print(f\" The employee will leave the organisation , Probablity : {pred_prob[0][1]}\")\n",
        "else:\n",
        "  print(f\" The employee will stay with the organisation , Probablity : {pred_prob[0][0]}\")\n"
      ],
      "metadata": {
        "colab": {
          "base_uri": "https://localhost:8080/"
        },
        "id": "UttU9_NLIAiz",
        "outputId": "65b53d4c-932e-4e5a-f152-3ee68f01a8b7"
      },
      "execution_count": null,
      "outputs": [
        {
          "output_type": "stream",
          "name": "stdout",
          "text": [
            "[[0.28 0.72]]\n",
            " The employee will leave the organisation , Probablity : 0.72\n"
          ]
        }
      ]
    }
  ],
  "metadata": {
    "colab": {
      "provenance": [],
      "collapsed_sections": [
        "RS534qvGSJA-",
        "kcezvyvoU4B0",
        "QaXoPQSYVdzc",
        "R1gCrinwW-tF",
        "SiGy9Yl9XKcK",
        "RC2i1klGXMzb",
        "vS2eco-UajWW",
        "-KF9KFXKKwj9"
      ]
    },
    "kernelspec": {
      "display_name": "Python 3",
      "name": "python3"
    },
    "language_info": {
      "name": "python"
    }
  },
  "nbformat": 4,
  "nbformat_minor": 0
}